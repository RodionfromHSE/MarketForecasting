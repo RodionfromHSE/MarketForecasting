{
 "cells": [
  {
   "cell_type": "code",
   "execution_count": 10,
   "metadata": {},
   "outputs": [],
   "source": [
    "import os\n",
    "\n",
    "root_dir = os.path.abspath('..')\n",
    "data_dir = os.path.join(root_dir, 'data')\n",
    "save_path = os.path.join(data_dir, 'assets_info.csv')"
   ]
  },
  {
   "cell_type": "code",
   "execution_count": 11,
   "metadata": {},
   "outputs": [],
   "source": [
    "import pandas as pd\n",
    "import numpy as np"
   ]
  },
  {
   "cell_type": "markdown",
   "metadata": {},
   "source": [
    "## Sliding Window & Target"
   ]
  },
  {
   "cell_type": "markdown",
   "metadata": {},
   "source": [
    "It's pretty interesting that market works not on all days (weekends & holidays).\n",
    "\n",
    "Also, it works from 9am to 4pm (Eastern Time).\n",
    "\n",
    "\n",
    "For this reason, I will consider all the available days as continuous.\n",
    "\n",
    "And, in the day, I'll have 7 hours of data (from 9am to 4pm)."
   ]
  },
  {
   "cell_type": "code",
   "execution_count": 12,
   "metadata": {},
   "outputs": [],
   "source": [
    "data = pd.read_csv(save_path)"
   ]
  },
  {
   "cell_type": "code",
   "execution_count": 13,
   "metadata": {},
   "outputs": [],
   "source": [
    "def create_sliding_windows(data, window_size, future_offset):\n",
    "    \"\"\"\n",
    "    Create sliding windows and corresponding targets from time series data.\n",
    "    \n",
    "    Parameters:\n",
    "    - data: np.array, time series data (e.g., closing prices).\n",
    "    - window_size: int, the number of points to include in each window (e.g., 30 days * 24 hours = 720).\n",
    "    - future_offset: int, how many points ahead to select the target value (e.g., 24 for 24 hours later).\n",
    "    \n",
    "    Returns:\n",
    "    - X_windows: np.array, 2D array where each row is a window of size `window_size`.\n",
    "    - y_targets: np.array, 1D array of target values corresponding to each window.\n",
    "    \"\"\"\n",
    "    \n",
    "    # Initialize lists to store windows and targets\n",
    "    X_windows = []\n",
    "    y_targets = []\n",
    "    \n",
    "    # Sliding window loop\n",
    "    for i in range(len(data) - window_size - future_offset):\n",
    "        # Extract the window of `window_size` points\n",
    "        window = data[i:i + window_size]\n",
    "        \n",
    "        # Extract the target value `future_offset` points after the window ends\n",
    "        target = data[i + window_size + future_offset - 1]\n",
    "        \n",
    "        # Append the window and target to their respective lists\n",
    "        X_windows.append(window)\n",
    "        y_targets.append(target)\n",
    "    \n",
    "    # Convert the lists to numpy arrays\n",
    "    X_windows = np.array(X_windows)\n",
    "    y_targets = np.array(y_targets)\n",
    "    \n",
    "    return X_windows, y_targets\n"
   ]
  },
  {
   "cell_type": "code",
   "execution_count": 14,
   "metadata": {},
   "outputs": [
    {
     "name": "stdout",
     "output_type": "stream",
     "text": [
      "X_windows shape: (783, 210)\n",
      "y_targets shape: (783,)\n"
     ]
    }
   ],
   "source": [
    "# Example time series data (close prices)\n",
    "data_ = np.array([i for i in range(1000)])  # Replace with your actual time series data\n",
    "\n",
    "# Set the parameters\n",
    "window_size = 30 * 7  # 30 days * 7 hours = 210 points per window\n",
    "future_offset = 7  # Target is the price 7 hours later\n",
    "\n",
    "# Call the function\n",
    "X_windows, y_targets = create_sliding_windows(data_, window_size, future_offset)\n",
    "\n",
    "# Check the output\n",
    "print(f'X_windows shape: {X_windows.shape}')  # Each row is a window of 720 points\n",
    "print(f'y_targets shape: {y_targets.shape}')  # Corresponding targets\n",
    "\n",
    "assert X_windows.shape[0] == y_targets.shape[0], 'Number of windows and targets do not match!'\n",
    "assert X_windows.shape == (1000 - window_size - future_offset, window_size), 'Incorrect shape for X_windows!'"
   ]
  },
  {
   "cell_type": "code",
   "execution_count": 15,
   "metadata": {},
   "outputs": [
    {
     "data": {
      "text/html": [
       "<div>\n",
       "<style scoped>\n",
       "    .dataframe tbody tr th:only-of-type {\n",
       "        vertical-align: middle;\n",
       "    }\n",
       "\n",
       "    .dataframe tbody tr th {\n",
       "        vertical-align: top;\n",
       "    }\n",
       "\n",
       "    .dataframe thead th {\n",
       "        text-align: right;\n",
       "    }\n",
       "</style>\n",
       "<table border=\"1\" class=\"dataframe\">\n",
       "  <thead>\n",
       "    <tr style=\"text-align: right;\">\n",
       "      <th></th>\n",
       "      <th>symbol</th>\n",
       "      <th>sector</th>\n",
       "      <th>industry</th>\n",
       "      <th>country</th>\n",
       "      <th>data</th>\n",
       "    </tr>\n",
       "  </thead>\n",
       "  <tbody>\n",
       "    <tr>\n",
       "      <th>0</th>\n",
       "      <td>X</td>\n",
       "      <td>Basic Materials</td>\n",
       "      <td>Steel</td>\n",
       "      <td>United States</td>\n",
       "      <td>{Timestamp('2024-03-04 09:30:00-0500', tz='Ame...</td>\n",
       "    </tr>\n",
       "    <tr>\n",
       "      <th>1</th>\n",
       "      <td>HRL</td>\n",
       "      <td>Consumer Defensive</td>\n",
       "      <td>Packaged Foods</td>\n",
       "      <td>United States</td>\n",
       "      <td>{Timestamp('2024-03-04 09:30:00-0500', tz='Ame...</td>\n",
       "    </tr>\n",
       "  </tbody>\n",
       "</table>\n",
       "</div>"
      ],
      "text/plain": [
       "  symbol              sector        industry        country  \\\n",
       "0      X     Basic Materials           Steel  United States   \n",
       "1    HRL  Consumer Defensive  Packaged Foods  United States   \n",
       "\n",
       "                                                data  \n",
       "0  {Timestamp('2024-03-04 09:30:00-0500', tz='Ame...  \n",
       "1  {Timestamp('2024-03-04 09:30:00-0500', tz='Ame...  "
      ]
     },
     "execution_count": 15,
     "metadata": {},
     "output_type": "execute_result"
    }
   ],
   "source": [
    "data.head(2)"
   ]
  },
  {
   "cell_type": "code",
   "execution_count": 16,
   "metadata": {},
   "outputs": [
    {
     "data": {
      "text/plain": [
       "({'symbol': 'X',\n",
       "  'sector': 'Basic Materials',\n",
       "  'industry': 'Steel',\n",
       "  'country': 'United States'},\n",
       " array([47.45000076, 47.45500183, 47.77999878]))"
      ]
     },
     "execution_count": 16,
     "metadata": {},
     "output_type": "execute_result"
    }
   ],
   "source": [
    "from pandas import Timestamp\n",
    "\n",
    "\n",
    "FEATURE_COLS = ['symbol', 'sector', 'industry', 'country']\n",
    "def get_features(data_row):\n",
    "    return data_row[FEATURE_COLS].to_dict()\n",
    "\n",
    "def get_values(data_row):\n",
    "    data_str = data_row['data'] # str(dict)\n",
    "    data_dict = eval(data_str)\n",
    "    return np.array(list(data_dict.values()))\n",
    "\n",
    "data_row_ = data.iloc[0]\n",
    "features = get_features(data_row_)\n",
    "values = get_values(data_row_)\n",
    "features, values[:3]"
   ]
  },
  {
   "cell_type": "code",
   "execution_count": 17,
   "metadata": {},
   "outputs": [
    {
     "name": "stdout",
     "output_type": "stream",
     "text": [
      "{'symbol': 'X', 'sector': 'Basic Materials', 'industry': 'Steel', 'country': 'United States', 'value_0': 47.45000076293945, 'value_1': 47.45500183105469, 'value_2': 47.779998779296875, 'value_3': 47.814998626708984, 'value_4': 47.78499984741211, 'value_5': 47.755001068115234, 'value_6': 47.69499969482422, 'value_7': 47.650001525878906, 'value_8': 47.939998626708984, 'value_9': 48.005001068115234, 'value_10': 48.03499984741211, 'value_11': 48.07500076293945, 'value_12': 48.04499816894531, 'value_13': 47.7599983215332, 'value_14': 47.36000061035156, 'value_15': 47.38999938964844, 'value_16': 47.20000076293945, 'value_17': 47.1150016784668, 'value_18': 47.16999816894531, 'value_19': 47.229000091552734, 'value_20': 47.20000076293945, 'value_21': 47.439998626708984, 'value_22': 47.5, 'value_23': 47.32500076293945, 'value_24': 47.39500045776367, 'value_25': 47.119998931884766, 'value_26': 47.349998474121094, 'value_27': 47.56999969482422, 'value_28': 47.53499984741211, 'value_29': 47.654998779296875, 'value_30': 47.67499923706055, 'value_31': 47.69499969482422, 'value_32': 47.6150016784668, 'value_33': 47.529998779296875, 'value_34': 47.43000030517578, 'value_35': 47.5099983215332, 'value_36': 47.4900016784668, 'value_37': 47.56999969482422, 'value_38': 47.43000030517578, 'value_39': 47.29999923706055, 'value_40': 47.19499969482422, 'value_41': 47.11000061035156, 'value_42': 46.959999084472656, 'value_43': 47.0, 'value_44': 46.96500015258789, 'value_45': 46.95000076293945, 'value_46': 46.94499969482422, 'value_47': 46.95000076293945, 'value_48': 46.849998474121094, 'value_49': 46.08000183105469, 'value_50': 46.29999923706055, 'value_51': 46.39500045776367, 'value_52': 41.555198669433594, 'value_53': 41.70500183105469, 'value_54': 40.7599983215332, 'value_55': 40.849998474121094, 'value_56': 40.040000915527344, 'value_57': 40.099998474121094, 'value_58': 40.20500183105469, 'value_59': 38.95000076293945, 'value_60': 37.470001220703125, 'value_61': 37.15629959106445, 'value_62': 38.2599983215332, 'value_63': 37.92499923706055, 'value_64': 38.42499923706055, 'value_65': 38.54249954223633, 'value_66': 39.03499984741211, 'value_67': 38.994998931884766, 'value_68': 38.80009841918945, 'value_69': 38.86000061035156, 'value_70': 38.89500045776367, 'value_71': 39.005001068115234, 'value_72': 39.005001068115234, 'value_73': 39.21500015258789, 'value_74': 39.244998931884766, 'value_75': 39.150001525878906, 'value_76': 38.869998931884766, 'value_77': 39.31999969482422, 'value_78': 39.599998474121094, 'value_79': 39.70500183105469, 'value_80': 39.6150016784668, 'value_81': 39.540000915527344, 'value_82': 39.58599853515625, 'value_83': 39.7400016784668, 'value_84': 39.9900016784668, 'value_85': 39.959999084472656, 'value_86': 39.81999969482422, 'value_87': 39.814998626708984, 'value_88': 39.720001220703125, 'value_89': 39.939998626708984, 'value_90': 39.68000030517578, 'value_91': 39.5099983215332, 'value_92': 39.900001525878906, 'value_93': 39.96500015258789, 'value_94': 39.9900016784668, 'value_95': 40.0, 'value_96': 40.060001373291016, 'value_97': 40.040000915527344, 'value_98': 39.9900016784668, 'value_99': 39.88629913330078, 'value_100': 39.84000015258789, 'value_101': 39.875, 'value_102': 39.82749938964844, 'value_103': 39.72999954223633, 'value_104': 39.66999816894531, 'value_105': 39.93000030517578, 'value_106': 39.935001373291016, 'value_107': 40.025001525878906, 'value_108': 40.1349983215332, 'value_109': 40.25, 'value_110': 40.349998474121094, 'value_111': 40.2599983215332, 'value_112': 40.36000061035156, 'value_113': 40.28390121459961, 'value_114': 40.400001525878906, 'value_115': 40.44499969482422, 'value_116': 40.73780059814453, 'value_117': 40.69499969482422, 'value_118': 40.68000030517578, 'value_119': 41.09000015258789, 'value_120': 41.34000015258789, 'value_121': 41.404998779296875, 'value_122': 41.125, 'value_123': 41.17499923706055, 'value_124': 41.04999923706055, 'value_125': 41.02000045776367, 'value_126': 41.119998931884766, 'value_127': 41.17499923706055, 'value_128': 41.06999969482422, 'value_129': 40.94499969482422, 'value_130': 40.95500183105469, 'value_131': 40.959999084472656, 'value_132': 40.75, 'value_133': 41.314998626708984, 'value_134': 41.5, 'value_135': 41.439998626708984, 'value_136': 41.86000061035156, 'value_137': 41.78499984741211, 'value_138': 41.775001525878906, 'value_139': 41.83000183105469, 'value_140': 41.244998931884766, 'value_141': 41.18000030517578, 'value_142': 41.15999984741211, 'value_143': 41.130001068115234, 'value_144': 41.279998779296875, 'value_145': 41.040000915527344, 'value_146': 41.40999984741211, 'value_147': 41.489898681640625, 'value_148': 41.90999984741211, 'value_149': 41.95109939575195, 'value_150': 42.005001068115234, 'value_151': 42.029998779296875, 'value_152': 41.89500045776367, 'value_153': 41.849998474121094, 'value_154': 41.959999084472656, 'value_155': 41.95000076293945, 'value_156': 42.11000061035156, 'value_157': 41.90999984741211, 'value_158': 41.84000015258789, 'value_159': 41.52000045776367, 'value_160': 41.11000061035156, 'value_161': 41.30500030517578, 'value_162': 41.38999938964844, 'value_163': 41.25, 'value_164': 41.2599983215332, 'value_165': 41.20000076293945, 'value_166': 41.10499954223633, 'value_167': 41.22999954223633, 'value_168': 41.10499954223633, 'value_169': 41.16999816894531, 'value_170': 40.8650016784668, 'value_171': 40.939998626708984, 'value_172': 40.810001373291016, 'value_173': 40.68000030517578, 'value_174': 40.599998474121094, 'value_175': 40.709999084472656, 'value_176': 40.775001525878906, 'value_177': 41.290000915527344, 'value_178': 41.43000030517578, 'value_179': 41.689998626708984, 'value_180': 41.95000076293945, 'value_181': 41.935001373291016, 'value_182': 41.79999923706055, 'value_183': 41.959999084472656, 'value_184': 41.82500076293945, 'value_185': 41.91999816894531, 'value_186': 42.40999984741211, 'value_187': 42.470001220703125, 'value_188': 42.61000061035156, 'value_189': 42.43000030517578, 'value_190': 42.345001220703125, 'value_191': 42.48500061035156, 'value_192': 42.41999816894531, 'value_193': 42.48500061035156, 'value_194': 42.415000915527344, 'value_195': 42.2400016784668, 'value_196': 42.16999816894531, 'value_197': 41.7666015625, 'value_198': 41.27000045776367, 'value_199': 41.165000915527344, 'value_200': 41.13999938964844, 'value_201': 40.994998931884766, 'value_202': 41.34000015258789, 'value_203': 41.33000183105469, 'value_204': 41.2400016784668, 'value_205': 41.209999084472656, 'value_206': 40.90760040283203, 'value_207': 40.93000030517578, 'value_208': 40.724998474121094, 'value_209': 40.83000183105469, 'target': 40.29999923706055}\n"
     ]
    }
   ],
   "source": [
    "from copy import deepcopy\n",
    "\n",
    "def row_to_samples(data_row, window_size, future_offset):\n",
    "    features = get_features(data_row)\n",
    "    values = get_values(data_row)\n",
    "    X_windows, y_targets = create_sliding_windows(values, window_size, future_offset)\n",
    "    for i in range(len(X_windows)):\n",
    "        sample = deepcopy(features)\n",
    "        sample.update({f'value_{j}': X_windows[i][j] for j in range(window_size)})\n",
    "        sample['target'] = y_targets[i]\n",
    "        yield sample\n",
    "    \n",
    "\n",
    "# Set the parameters\n",
    "window_size = 30 * 7  # 30 days * 7 hours = 210 points per window\n",
    "future_offset = 7  # Target is the price 7 hours later\n",
    "\n",
    "# Get the first row of data\n",
    "data_row_ = data.iloc[0]\n",
    "cnt = 10\n",
    "for sample in row_to_samples(data_row_, window_size, future_offset):\n",
    "    print(sample)\n",
    "    break"
   ]
  },
  {
   "cell_type": "code",
   "execution_count": 18,
   "metadata": {},
   "outputs": [],
   "source": [
    "# data --> dataframe\n",
    "\n",
    "def data_to_samples(data, window_size, future_offset):\n",
    "    for _, data_row in data.iterrows():\n",
    "        yield from row_to_samples(data_row, window_size, future_offset)\n",
    "\n",
    "df = pd.DataFrame(data_to_samples(data, window_size, future_offset))"
   ]
  },
  {
   "cell_type": "code",
   "execution_count": 19,
   "metadata": {},
   "outputs": [
    {
     "name": "stdout",
     "output_type": "stream",
     "text": [
      "Number of samples: 127410\n"
     ]
    }
   ],
   "source": [
    "print(f'Number of samples: {len(df)}')"
   ]
  },
  {
   "cell_type": "code",
   "execution_count": 20,
   "metadata": {},
   "outputs": [
    {
     "data": {
      "text/html": [
       "<div>\n",
       "<style scoped>\n",
       "    .dataframe tbody tr th:only-of-type {\n",
       "        vertical-align: middle;\n",
       "    }\n",
       "\n",
       "    .dataframe tbody tr th {\n",
       "        vertical-align: top;\n",
       "    }\n",
       "\n",
       "    .dataframe thead th {\n",
       "        text-align: right;\n",
       "    }\n",
       "</style>\n",
       "<table border=\"1\" class=\"dataframe\">\n",
       "  <thead>\n",
       "    <tr style=\"text-align: right;\">\n",
       "      <th></th>\n",
       "      <th>symbol</th>\n",
       "      <th>sector</th>\n",
       "      <th>industry</th>\n",
       "      <th>country</th>\n",
       "      <th>value_0</th>\n",
       "      <th>value_1</th>\n",
       "      <th>value_2</th>\n",
       "      <th>value_3</th>\n",
       "      <th>value_4</th>\n",
       "      <th>value_5</th>\n",
       "      <th>...</th>\n",
       "      <th>value_201</th>\n",
       "      <th>value_202</th>\n",
       "      <th>value_203</th>\n",
       "      <th>value_204</th>\n",
       "      <th>value_205</th>\n",
       "      <th>value_206</th>\n",
       "      <th>value_207</th>\n",
       "      <th>value_208</th>\n",
       "      <th>value_209</th>\n",
       "      <th>target</th>\n",
       "    </tr>\n",
       "  </thead>\n",
       "  <tbody>\n",
       "    <tr>\n",
       "      <th>0</th>\n",
       "      <td>X</td>\n",
       "      <td>Basic Materials</td>\n",
       "      <td>Steel</td>\n",
       "      <td>United States</td>\n",
       "      <td>47.450001</td>\n",
       "      <td>47.455002</td>\n",
       "      <td>47.779999</td>\n",
       "      <td>47.814999</td>\n",
       "      <td>47.785000</td>\n",
       "      <td>47.755001</td>\n",
       "      <td>...</td>\n",
       "      <td>40.994999</td>\n",
       "      <td>41.340000</td>\n",
       "      <td>41.330002</td>\n",
       "      <td>41.240002</td>\n",
       "      <td>41.209999</td>\n",
       "      <td>40.907600</td>\n",
       "      <td>40.930000</td>\n",
       "      <td>40.724998</td>\n",
       "      <td>40.830002</td>\n",
       "      <td>40.299999</td>\n",
       "    </tr>\n",
       "    <tr>\n",
       "      <th>1</th>\n",
       "      <td>X</td>\n",
       "      <td>Basic Materials</td>\n",
       "      <td>Steel</td>\n",
       "      <td>United States</td>\n",
       "      <td>47.455002</td>\n",
       "      <td>47.779999</td>\n",
       "      <td>47.814999</td>\n",
       "      <td>47.785000</td>\n",
       "      <td>47.755001</td>\n",
       "      <td>47.695000</td>\n",
       "      <td>...</td>\n",
       "      <td>41.340000</td>\n",
       "      <td>41.330002</td>\n",
       "      <td>41.240002</td>\n",
       "      <td>41.209999</td>\n",
       "      <td>40.907600</td>\n",
       "      <td>40.930000</td>\n",
       "      <td>40.724998</td>\n",
       "      <td>40.830002</td>\n",
       "      <td>40.450001</td>\n",
       "      <td>40.599998</td>\n",
       "    </tr>\n",
       "    <tr>\n",
       "      <th>2</th>\n",
       "      <td>X</td>\n",
       "      <td>Basic Materials</td>\n",
       "      <td>Steel</td>\n",
       "      <td>United States</td>\n",
       "      <td>47.779999</td>\n",
       "      <td>47.814999</td>\n",
       "      <td>47.785000</td>\n",
       "      <td>47.755001</td>\n",
       "      <td>47.695000</td>\n",
       "      <td>47.650002</td>\n",
       "      <td>...</td>\n",
       "      <td>41.330002</td>\n",
       "      <td>41.240002</td>\n",
       "      <td>41.209999</td>\n",
       "      <td>40.907600</td>\n",
       "      <td>40.930000</td>\n",
       "      <td>40.724998</td>\n",
       "      <td>40.830002</td>\n",
       "      <td>40.450001</td>\n",
       "      <td>40.520000</td>\n",
       "      <td>40.500000</td>\n",
       "    </tr>\n",
       "    <tr>\n",
       "      <th>3</th>\n",
       "      <td>X</td>\n",
       "      <td>Basic Materials</td>\n",
       "      <td>Steel</td>\n",
       "      <td>United States</td>\n",
       "      <td>47.814999</td>\n",
       "      <td>47.785000</td>\n",
       "      <td>47.755001</td>\n",
       "      <td>47.695000</td>\n",
       "      <td>47.650002</td>\n",
       "      <td>47.939999</td>\n",
       "      <td>...</td>\n",
       "      <td>41.240002</td>\n",
       "      <td>41.209999</td>\n",
       "      <td>40.907600</td>\n",
       "      <td>40.930000</td>\n",
       "      <td>40.724998</td>\n",
       "      <td>40.830002</td>\n",
       "      <td>40.450001</td>\n",
       "      <td>40.520000</td>\n",
       "      <td>40.380001</td>\n",
       "      <td>40.134998</td>\n",
       "    </tr>\n",
       "    <tr>\n",
       "      <th>4</th>\n",
       "      <td>X</td>\n",
       "      <td>Basic Materials</td>\n",
       "      <td>Steel</td>\n",
       "      <td>United States</td>\n",
       "      <td>47.785000</td>\n",
       "      <td>47.755001</td>\n",
       "      <td>47.695000</td>\n",
       "      <td>47.650002</td>\n",
       "      <td>47.939999</td>\n",
       "      <td>48.005001</td>\n",
       "      <td>...</td>\n",
       "      <td>41.209999</td>\n",
       "      <td>40.907600</td>\n",
       "      <td>40.930000</td>\n",
       "      <td>40.724998</td>\n",
       "      <td>40.830002</td>\n",
       "      <td>40.450001</td>\n",
       "      <td>40.520000</td>\n",
       "      <td>40.380001</td>\n",
       "      <td>40.340000</td>\n",
       "      <td>40.209999</td>\n",
       "    </tr>\n",
       "  </tbody>\n",
       "</table>\n",
       "<p>5 rows × 215 columns</p>\n",
       "</div>"
      ],
      "text/plain": [
       "  symbol           sector industry        country    value_0    value_1  \\\n",
       "0      X  Basic Materials    Steel  United States  47.450001  47.455002   \n",
       "1      X  Basic Materials    Steel  United States  47.455002  47.779999   \n",
       "2      X  Basic Materials    Steel  United States  47.779999  47.814999   \n",
       "3      X  Basic Materials    Steel  United States  47.814999  47.785000   \n",
       "4      X  Basic Materials    Steel  United States  47.785000  47.755001   \n",
       "\n",
       "     value_2    value_3    value_4    value_5  ...  value_201  value_202  \\\n",
       "0  47.779999  47.814999  47.785000  47.755001  ...  40.994999  41.340000   \n",
       "1  47.814999  47.785000  47.755001  47.695000  ...  41.340000  41.330002   \n",
       "2  47.785000  47.755001  47.695000  47.650002  ...  41.330002  41.240002   \n",
       "3  47.755001  47.695000  47.650002  47.939999  ...  41.240002  41.209999   \n",
       "4  47.695000  47.650002  47.939999  48.005001  ...  41.209999  40.907600   \n",
       "\n",
       "   value_203  value_204  value_205  value_206  value_207  value_208  \\\n",
       "0  41.330002  41.240002  41.209999  40.907600  40.930000  40.724998   \n",
       "1  41.240002  41.209999  40.907600  40.930000  40.724998  40.830002   \n",
       "2  41.209999  40.907600  40.930000  40.724998  40.830002  40.450001   \n",
       "3  40.907600  40.930000  40.724998  40.830002  40.450001  40.520000   \n",
       "4  40.930000  40.724998  40.830002  40.450001  40.520000  40.380001   \n",
       "\n",
       "   value_209     target  \n",
       "0  40.830002  40.299999  \n",
       "1  40.450001  40.599998  \n",
       "2  40.520000  40.500000  \n",
       "3  40.380001  40.134998  \n",
       "4  40.340000  40.209999  \n",
       "\n",
       "[5 rows x 215 columns]"
      ]
     },
     "execution_count": 20,
     "metadata": {},
     "output_type": "execute_result"
    }
   ],
   "source": [
    "df.head(5)"
   ]
  },
  {
   "cell_type": "markdown",
   "metadata": {},
   "source": [
    "## Target\n",
    "\n",
    "I will classify changes by more than `std / denominator` as 1 and -1, and the rest as 0. \\\n",
    "Denominator is chosen in such a way that the number of 1s and -1s is approximately equal to the number of 0s.\n"
   ]
  },
  {
   "cell_type": "code",
   "execution_count": 21,
   "metadata": {},
   "outputs": [
    {
     "data": {
      "text/plain": [
       "count    127410.000000\n",
       "mean          0.431984\n",
       "std           0.489741\n",
       "min           0.000000\n",
       "25%           0.129276\n",
       "50%           0.294078\n",
       "75%           0.568306\n",
       "max           9.862311\n",
       "dtype: float64"
      ]
     },
     "execution_count": 21,
     "metadata": {},
     "output_type": "execute_result"
    }
   ],
   "source": [
    "N_values = window_size\n",
    "\n",
    "def get_change_over_std(data_row):\n",
    "    \"\"\"Return the target value for a given row of data.\"\"\"\n",
    "    std = np.std([data_row[f'value_{i}'] for i in range(N_values)])\n",
    "    pre_last_price = data_row[f'value_{N_values-1}']\n",
    "    last_price = data_row[f'target']\n",
    "    return (last_price - pre_last_price) / std\n",
    "\n",
    "DENOMINATOR = 4\n",
    "def get_target(data_row):\n",
    "    \"\"\"Return the target value for a given row of data.\"\"\"\n",
    "    change_over_std = get_change_over_std(data_row)\n",
    "    \n",
    "    if abs(change_over_std) * DENOMINATOR < 1:\n",
    "        return 0\n",
    "    return 1 if change_over_std > 0 else -1\n",
    "\n",
    "# df['target_class'] = df.apply(get_target, axis=1)\n",
    "df.apply(get_change_over_std, axis=1).apply(abs).describe()"
   ]
  },
  {
   "cell_type": "code",
   "execution_count": 22,
   "metadata": {},
   "outputs": [],
   "source": [
    "df['target_class'] = df.apply(get_target, axis=1)"
   ]
  },
  {
   "cell_type": "code",
   "execution_count": 23,
   "metadata": {},
   "outputs": [
    {
     "data": {
      "text/plain": [
       "target_class\n",
       " 0    56380\n",
       " 1    38230\n",
       "-1    32800\n",
       "Name: count, dtype: int64"
      ]
     },
     "execution_count": 23,
     "metadata": {},
     "output_type": "execute_result"
    }
   ],
   "source": [
    "df.target_class.value_counts()"
   ]
  },
  {
   "cell_type": "markdown",
   "metadata": {},
   "source": [
    "## Additional preprocessing\n",
    "\n",
    "Before moving to clustering and adding time-series based features, I will preprocess the data a bit:\n",
    "\n",
    "* OHE to `sector`, `industry`, `country` columns\n",
    "* Split the data into train and test (test = 0.1)\n",
    "Motivation: I want in test to be samples from the assets model has never seen before.\n",
    "* Scale the data\n"
   ]
  },
  {
   "cell_type": "markdown",
   "metadata": {},
   "source": [
    "#### Splitting the data\n",
    "\n",
    "The test will contain the tickers that are not in the train. For this reason, I'll take only the test_split sample for test \\\n",
    "`shuffle=False`"
   ]
  },
  {
   "cell_type": "code",
   "execution_count": 24,
   "metadata": {},
   "outputs": [],
   "source": [
    "from sklearn.model_selection import train_test_split\n",
    "\n",
    "test_split = 0.15\n",
    "\n",
    "df_train, df_test = train_test_split(df, test_size=test_split, shuffle=False)"
   ]
  },
  {
   "cell_type": "markdown",
   "metadata": {},
   "source": [
    "#### OHE"
   ]
  },
  {
   "cell_type": "code",
   "execution_count": 25,
   "metadata": {},
   "outputs": [],
   "source": [
    "from sklearn.preprocessing import StandardScaler, OneHotEncoder"
   ]
  },
  {
   "cell_type": "code",
   "execution_count": 26,
   "metadata": {},
   "outputs": [
    {
     "name": "stdout",
     "output_type": "stream",
     "text": [
      "sector 11\n",
      "industry 79\n",
      "country 19\n"
     ]
    }
   ],
   "source": [
    "ohe_cols = ['sector', 'industry', 'country']\n",
    "\n",
    "# count values\n",
    "for col in ohe_cols:\n",
    "    print(col, df_train[col].nunique())"
   ]
  },
  {
   "cell_type": "code",
   "execution_count": 27,
   "metadata": {},
   "outputs": [
    {
     "data": {
      "text/plain": [
       "industry\n",
       "Asset Management                    9819\n",
       "Oil & Gas Equipment & Services      4007\n",
       "REIT - Retail                       3340\n",
       "Banks - Regional                    3336\n",
       "Medical Instruments & Supplies      3328\n",
       "                                    ... \n",
       "Utilities - Diversified              660\n",
       "Telecom Services                     649\n",
       "Other Industrial Metals & Mining     634\n",
       "Industrial Distribution              454\n",
       "Pharmaceutical Retailers             282\n",
       "Name: count, Length: 79, dtype: int64"
      ]
     },
     "execution_count": 27,
     "metadata": {},
     "output_type": "execute_result"
    }
   ],
   "source": [
    "df_train['industry'].value_counts()"
   ]
  },
  {
   "cell_type": "code",
   "execution_count": 28,
   "metadata": {},
   "outputs": [
    {
     "name": "stdout",
     "output_type": "stream",
     "text": [
      "Amount of small industries: 40\n"
     ]
    }
   ],
   "source": [
    "industry_size = df_train.groupby('industry').size().sort_values(ascending=False)\n",
    "small_industries = industry_size[industry_size < 850].index\n",
    "print(\"Amount of small industries:\", len(small_industries))\n",
    "\n",
    "df_train.loc[df_train.industry.isin(small_industries), 'industry'] = \"default_industry\"\n",
    "df_test.loc[df_test.industry.isin(small_industries), 'industry'] = \"default_industry\""
   ]
  },
  {
   "cell_type": "code",
   "execution_count": 29,
   "metadata": {},
   "outputs": [],
   "source": [
    "ohe_encoder = OneHotEncoder(handle_unknown='ignore', sparse_output=False)\n",
    "ohe_encoder.fit(df_train[ohe_cols])\n",
    "\n",
    "df_train_ohe = pd.DataFrame(ohe_encoder.transform(df_train[ohe_cols]), columns=ohe_encoder.get_feature_names_out(ohe_cols))\n",
    "df_test_ohe = pd.DataFrame(ohe_encoder.transform(df_test[ohe_cols]), columns=ohe_encoder.get_feature_names_out(ohe_cols))"
   ]
  },
  {
   "cell_type": "code",
   "execution_count": 30,
   "metadata": {},
   "outputs": [
    {
     "data": {
      "text/plain": [
       "(108298, 70)"
      ]
     },
     "execution_count": 30,
     "metadata": {},
     "output_type": "execute_result"
    }
   ],
   "source": [
    "df_train_ohe.shape"
   ]
  },
  {
   "cell_type": "code",
   "execution_count": 31,
   "metadata": {},
   "outputs": [
    {
     "data": {
      "text/html": [
       "<div>\n",
       "<style scoped>\n",
       "    .dataframe tbody tr th:only-of-type {\n",
       "        vertical-align: middle;\n",
       "    }\n",
       "\n",
       "    .dataframe tbody tr th {\n",
       "        vertical-align: top;\n",
       "    }\n",
       "\n",
       "    .dataframe thead th {\n",
       "        text-align: right;\n",
       "    }\n",
       "</style>\n",
       "<table border=\"1\" class=\"dataframe\">\n",
       "  <thead>\n",
       "    <tr style=\"text-align: right;\">\n",
       "      <th></th>\n",
       "      <th>sector_Basic Materials</th>\n",
       "      <th>sector_Communication Services</th>\n",
       "      <th>sector_Consumer Cyclical</th>\n",
       "      <th>sector_Consumer Defensive</th>\n",
       "      <th>sector_Energy</th>\n",
       "      <th>sector_Financial Services</th>\n",
       "      <th>sector_Healthcare</th>\n",
       "      <th>sector_Industrials</th>\n",
       "      <th>sector_Real Estate</th>\n",
       "      <th>sector_Technology</th>\n",
       "      <th>...</th>\n",
       "      <th>country_India</th>\n",
       "      <th>country_Ireland</th>\n",
       "      <th>country_Israel</th>\n",
       "      <th>country_Japan</th>\n",
       "      <th>country_Luxembourg</th>\n",
       "      <th>country_Netherlands</th>\n",
       "      <th>country_Philippines</th>\n",
       "      <th>country_South Korea</th>\n",
       "      <th>country_United Kingdom</th>\n",
       "      <th>country_United States</th>\n",
       "    </tr>\n",
       "  </thead>\n",
       "  <tbody>\n",
       "    <tr>\n",
       "      <th>0</th>\n",
       "      <td>1.0</td>\n",
       "      <td>0.0</td>\n",
       "      <td>0.0</td>\n",
       "      <td>0.0</td>\n",
       "      <td>0.0</td>\n",
       "      <td>0.0</td>\n",
       "      <td>0.0</td>\n",
       "      <td>0.0</td>\n",
       "      <td>0.0</td>\n",
       "      <td>0.0</td>\n",
       "      <td>...</td>\n",
       "      <td>0.0</td>\n",
       "      <td>0.0</td>\n",
       "      <td>0.0</td>\n",
       "      <td>0.0</td>\n",
       "      <td>0.0</td>\n",
       "      <td>0.0</td>\n",
       "      <td>0.0</td>\n",
       "      <td>0.0</td>\n",
       "      <td>0.0</td>\n",
       "      <td>1.0</td>\n",
       "    </tr>\n",
       "    <tr>\n",
       "      <th>1</th>\n",
       "      <td>1.0</td>\n",
       "      <td>0.0</td>\n",
       "      <td>0.0</td>\n",
       "      <td>0.0</td>\n",
       "      <td>0.0</td>\n",
       "      <td>0.0</td>\n",
       "      <td>0.0</td>\n",
       "      <td>0.0</td>\n",
       "      <td>0.0</td>\n",
       "      <td>0.0</td>\n",
       "      <td>...</td>\n",
       "      <td>0.0</td>\n",
       "      <td>0.0</td>\n",
       "      <td>0.0</td>\n",
       "      <td>0.0</td>\n",
       "      <td>0.0</td>\n",
       "      <td>0.0</td>\n",
       "      <td>0.0</td>\n",
       "      <td>0.0</td>\n",
       "      <td>0.0</td>\n",
       "      <td>1.0</td>\n",
       "    </tr>\n",
       "  </tbody>\n",
       "</table>\n",
       "<p>2 rows × 70 columns</p>\n",
       "</div>"
      ],
      "text/plain": [
       "   sector_Basic Materials  sector_Communication Services  \\\n",
       "0                     1.0                            0.0   \n",
       "1                     1.0                            0.0   \n",
       "\n",
       "   sector_Consumer Cyclical  sector_Consumer Defensive  sector_Energy  \\\n",
       "0                       0.0                        0.0            0.0   \n",
       "1                       0.0                        0.0            0.0   \n",
       "\n",
       "   sector_Financial Services  sector_Healthcare  sector_Industrials  \\\n",
       "0                        0.0                0.0                 0.0   \n",
       "1                        0.0                0.0                 0.0   \n",
       "\n",
       "   sector_Real Estate  sector_Technology  ...  country_India  country_Ireland  \\\n",
       "0                 0.0                0.0  ...            0.0              0.0   \n",
       "1                 0.0                0.0  ...            0.0              0.0   \n",
       "\n",
       "   country_Israel  country_Japan  country_Luxembourg  country_Netherlands  \\\n",
       "0             0.0            0.0                 0.0                  0.0   \n",
       "1             0.0            0.0                 0.0                  0.0   \n",
       "\n",
       "   country_Philippines  country_South Korea  country_United Kingdom  \\\n",
       "0                  0.0                  0.0                     0.0   \n",
       "1                  0.0                  0.0                     0.0   \n",
       "\n",
       "   country_United States  \n",
       "0                    1.0  \n",
       "1                    1.0  \n",
       "\n",
       "[2 rows x 70 columns]"
      ]
     },
     "execution_count": 31,
     "metadata": {},
     "output_type": "execute_result"
    }
   ],
   "source": [
    "df_train_ohe.head(2)"
   ]
  },
  {
   "cell_type": "markdown",
   "metadata": {},
   "source": [
    "#### More simplfe features (before normalization)"
   ]
  },
  {
   "cell_type": "code",
   "execution_count": 32,
   "metadata": {},
   "outputs": [
    {
     "data": {
      "text/plain": [
       "(108298, 5)"
      ]
     },
     "execution_count": 32,
     "metadata": {},
     "output_type": "execute_result"
    }
   ],
   "source": [
    "cfg = dict(\n",
    "    mean=np.mean,\n",
    "    sum=np.sum,\n",
    "    std=np.std,\n",
    "    min=np.min,\n",
    "    max=np.max\n",
    ")\n",
    "\n",
    "def extract_tsfel_simple(data):\n",
    "    features = []\n",
    "    for feature_name, feature_extractor in cfg.items():\n",
    "        feature_values = feature_extractor(data, axis=1)\n",
    "        features.append(feature_values)\n",
    "\n",
    "    return pd.DataFrame(np.array(features).T, columns=list(cfg.keys()))\n",
    "\n",
    "scale_cols = [f'value_{i}' for i in range(N_values)]\n",
    "train_stat_features = extract_tsfel_simple(df_train[scale_cols])\n",
    "test_stat_features = extract_tsfel_simple(df_test[scale_cols])\n",
    "train_stat_features.shape"
   ]
  },
  {
   "cell_type": "markdown",
   "metadata": {},
   "source": [
    "#### Scaling"
   ]
  },
  {
   "cell_type": "code",
   "execution_count": 33,
   "metadata": {},
   "outputs": [
    {
     "name": "stderr",
     "output_type": "stream",
     "text": [
      "c:\\Users\\rodio\\Desktop\\Programming\\ML\\market_forecasting\\.venv\\Lib\\site-packages\\tslearn\\bases\\bases.py:15: UserWarning: h5py not installed, hdf5 features will not be supported.\n",
      "Install h5py to use hdf5 features: http://docs.h5py.org/\n",
      "  warn(h5py_msg)\n"
     ]
    }
   ],
   "source": [
    "from tslearn.preprocessing import TimeSeriesScalerMeanVariance\n",
    "\n",
    "# scale along with axis=1\n",
    "scaler = TimeSeriesScalerMeanVariance(mu=0., std=1.)\n",
    "X_train_scaled = scaler.fit_transform(df_train[scale_cols]).reshape(-1, N_values)\n",
    "X_test_scaled = scaler.transform(df_test[scale_cols]).reshape(-1, N_values)\n",
    "\n",
    "X_train_scaled = pd.DataFrame(X_train_scaled)\n",
    "X_test_scaled = pd.DataFrame(X_test_scaled)"
   ]
  },
  {
   "cell_type": "code",
   "execution_count": 34,
   "metadata": {},
   "outputs": [],
   "source": [
    "random_row = np.random.randint(0, len(X_train))\n",
    "n_checks = 25\n",
    "for i in range(n_checks):\n",
    "    random_row = np.random.randint(0, len(X_train))\n",
    "    assert np.isclose(X_train_scaled.iloc[random_row].values.mean(), 0, atol=1e-5), 'Mean of the time series is not close to 0!'\n",
    "    assert np.isclose(X_train_scaled.iloc[random_row].values.std(), 1, atol=1e-5), 'Standard deviation of the time series is not close to 1!'\n",
    "\n",
    "    random_row = np.random.randint(0, len(X_test_scaled))\n",
    "    assert np.isclose(X_test_scaled.iloc[random_row].values.mean(), 0, atol=1e-5), 'Mean of the time series is not close to 0!'\n",
    "    assert np.isclose(X_test_scaled.iloc[random_row].values.std(), 1, atol=1e-5), 'Standard deviation of the time series is not close to 1!'"
   ]
  },
  {
   "cell_type": "code",
   "execution_count": 82,
   "metadata": {},
   "outputs": [],
   "source": [
    "df_test = df_test.copy()"
   ]
  },
  {
   "cell_type": "code",
   "execution_count": 85,
   "metadata": {},
   "outputs": [
    {
     "data": {
      "text/plain": [
       "symbol        object\n",
       "sector        object\n",
       "industry      object\n",
       "country       object\n",
       "target       float64\n",
       "              ...   \n",
       "value_205    float64\n",
       "value_206    float64\n",
       "value_207    float64\n",
       "value_208    float64\n",
       "value_209    float64\n",
       "Length: 216, dtype: object"
      ]
     },
     "execution_count": 85,
     "metadata": {},
     "output_type": "execute_result"
    }
   ],
   "source": [
    "df_test.dtypes"
   ]
  },
  {
   "cell_type": "code",
   "execution_count": 92,
   "metadata": {},
   "outputs": [],
   "source": [
    "df_train[scale_cols] = X_train_scaled\n",
    "df_test[scale_cols] = X_test_scaled.values # some strange bug"
   ]
  },
  {
   "cell_type": "markdown",
   "metadata": {},
   "source": [
    "#### Final dataset"
   ]
  },
  {
   "cell_type": "code",
   "execution_count": 94,
   "metadata": {},
   "outputs": [
    {
     "data": {
      "text/html": [
       "<div>\n",
       "<style scoped>\n",
       "    .dataframe tbody tr th:only-of-type {\n",
       "        vertical-align: middle;\n",
       "    }\n",
       "\n",
       "    .dataframe tbody tr th {\n",
       "        vertical-align: top;\n",
       "    }\n",
       "\n",
       "    .dataframe thead th {\n",
       "        text-align: right;\n",
       "    }\n",
       "</style>\n",
       "<table border=\"1\" class=\"dataframe\">\n",
       "  <thead>\n",
       "    <tr style=\"text-align: right;\">\n",
       "      <th></th>\n",
       "      <th>symbol</th>\n",
       "      <th>sector</th>\n",
       "      <th>industry</th>\n",
       "      <th>country</th>\n",
       "      <th>value_0</th>\n",
       "      <th>value_1</th>\n",
       "      <th>value_2</th>\n",
       "      <th>value_3</th>\n",
       "      <th>value_4</th>\n",
       "      <th>value_5</th>\n",
       "      <th>...</th>\n",
       "      <th>value_202</th>\n",
       "      <th>value_203</th>\n",
       "      <th>value_204</th>\n",
       "      <th>value_205</th>\n",
       "      <th>value_206</th>\n",
       "      <th>value_207</th>\n",
       "      <th>value_208</th>\n",
       "      <th>value_209</th>\n",
       "      <th>target</th>\n",
       "      <th>target_class</th>\n",
       "    </tr>\n",
       "  </thead>\n",
       "  <tbody>\n",
       "    <tr>\n",
       "      <th>0</th>\n",
       "      <td>X</td>\n",
       "      <td>Basic Materials</td>\n",
       "      <td>Steel</td>\n",
       "      <td>United States</td>\n",
       "      <td>1.674574</td>\n",
       "      <td>1.676223</td>\n",
       "      <td>1.783360</td>\n",
       "      <td>1.794898</td>\n",
       "      <td>1.785008</td>\n",
       "      <td>1.775119</td>\n",
       "      <td>...</td>\n",
       "      <td>-0.339624</td>\n",
       "      <td>-0.34292</td>\n",
       "      <td>-0.372589</td>\n",
       "      <td>-0.382479</td>\n",
       "      <td>-0.482167</td>\n",
       "      <td>-0.474783</td>\n",
       "      <td>-0.542363</td>\n",
       "      <td>-0.507748</td>\n",
       "      <td>40.299999</td>\n",
       "      <td>0</td>\n",
       "    </tr>\n",
       "    <tr>\n",
       "      <th>1</th>\n",
       "      <td>X</td>\n",
       "      <td>Basic Materials</td>\n",
       "      <td>Steel</td>\n",
       "      <td>United States</td>\n",
       "      <td>1.697054</td>\n",
       "      <td>1.804816</td>\n",
       "      <td>1.816421</td>\n",
       "      <td>1.806474</td>\n",
       "      <td>1.796527</td>\n",
       "      <td>1.776632</td>\n",
       "      <td>...</td>\n",
       "      <td>-0.333868</td>\n",
       "      <td>-0.36371</td>\n",
       "      <td>-0.373658</td>\n",
       "      <td>-0.473927</td>\n",
       "      <td>-0.466500</td>\n",
       "      <td>-0.534474</td>\n",
       "      <td>-0.499657</td>\n",
       "      <td>-0.625657</td>\n",
       "      <td>40.599998</td>\n",
       "      <td>0</td>\n",
       "    </tr>\n",
       "  </tbody>\n",
       "</table>\n",
       "<p>2 rows × 216 columns</p>\n",
       "</div>"
      ],
      "text/plain": [
       "  symbol           sector industry        country   value_0   value_1  \\\n",
       "0      X  Basic Materials    Steel  United States  1.674574  1.676223   \n",
       "1      X  Basic Materials    Steel  United States  1.697054  1.804816   \n",
       "\n",
       "    value_2   value_3   value_4   value_5  ...  value_202  value_203  \\\n",
       "0  1.783360  1.794898  1.785008  1.775119  ...  -0.339624   -0.34292   \n",
       "1  1.816421  1.806474  1.796527  1.776632  ...  -0.333868   -0.36371   \n",
       "\n",
       "   value_204  value_205  value_206  value_207  value_208  value_209  \\\n",
       "0  -0.372589  -0.382479  -0.482167  -0.474783  -0.542363  -0.507748   \n",
       "1  -0.373658  -0.473927  -0.466500  -0.534474  -0.499657  -0.625657   \n",
       "\n",
       "      target  target_class  \n",
       "0  40.299999             0  \n",
       "1  40.599998             0  \n",
       "\n",
       "[2 rows x 216 columns]"
      ]
     },
     "execution_count": 94,
     "metadata": {},
     "output_type": "execute_result"
    }
   ],
   "source": [
    "df_train.head(2)"
   ]
  },
  {
   "cell_type": "code",
   "execution_count": 95,
   "metadata": {},
   "outputs": [
    {
     "data": {
      "text/html": [
       "<div>\n",
       "<style scoped>\n",
       "    .dataframe tbody tr th:only-of-type {\n",
       "        vertical-align: middle;\n",
       "    }\n",
       "\n",
       "    .dataframe tbody tr th {\n",
       "        vertical-align: top;\n",
       "    }\n",
       "\n",
       "    .dataframe thead th {\n",
       "        text-align: right;\n",
       "    }\n",
       "</style>\n",
       "<table border=\"1\" class=\"dataframe\">\n",
       "  <thead>\n",
       "    <tr style=\"text-align: right;\">\n",
       "      <th></th>\n",
       "      <th>symbol</th>\n",
       "      <th>sector</th>\n",
       "      <th>industry</th>\n",
       "      <th>country</th>\n",
       "      <th>target</th>\n",
       "      <th>target_class</th>\n",
       "      <th>value_0</th>\n",
       "      <th>value_1</th>\n",
       "      <th>value_2</th>\n",
       "      <th>value_3</th>\n",
       "      <th>...</th>\n",
       "      <th>value_200</th>\n",
       "      <th>value_201</th>\n",
       "      <th>value_202</th>\n",
       "      <th>value_203</th>\n",
       "      <th>value_204</th>\n",
       "      <th>value_205</th>\n",
       "      <th>value_206</th>\n",
       "      <th>value_207</th>\n",
       "      <th>value_208</th>\n",
       "      <th>value_209</th>\n",
       "    </tr>\n",
       "  </thead>\n",
       "  <tbody>\n",
       "    <tr>\n",
       "      <th>108298</th>\n",
       "      <td>BFK</td>\n",
       "      <td>Financial Services</td>\n",
       "      <td>Asset Management</td>\n",
       "      <td>United States</td>\n",
       "      <td>9.9435</td>\n",
       "      <td>0</td>\n",
       "      <td>0.954421</td>\n",
       "      <td>1.044754</td>\n",
       "      <td>1.052608</td>\n",
       "      <td>0.996972</td>\n",
       "      <td>...</td>\n",
       "      <td>-1.696732</td>\n",
       "      <td>-1.664001</td>\n",
       "      <td>-1.631925</td>\n",
       "      <td>-1.598539</td>\n",
       "      <td>-1.696732</td>\n",
       "      <td>-1.826994</td>\n",
       "      <td>-1.762187</td>\n",
       "      <td>-1.794918</td>\n",
       "      <td>-1.925842</td>\n",
       "      <td>-1.991298</td>\n",
       "    </tr>\n",
       "    <tr>\n",
       "      <th>108299</th>\n",
       "      <td>BFK</td>\n",
       "      <td>Financial Services</td>\n",
       "      <td>Asset Management</td>\n",
       "      <td>United States</td>\n",
       "      <td>9.9600</td>\n",
       "      <td>0</td>\n",
       "      <td>1.052026</td>\n",
       "      <td>1.059836</td>\n",
       "      <td>1.004514</td>\n",
       "      <td>0.994750</td>\n",
       "      <td>...</td>\n",
       "      <td>-1.641429</td>\n",
       "      <td>-1.609534</td>\n",
       "      <td>-1.576337</td>\n",
       "      <td>-1.673975</td>\n",
       "      <td>-1.803501</td>\n",
       "      <td>-1.739061</td>\n",
       "      <td>-1.771607</td>\n",
       "      <td>-1.901791</td>\n",
       "      <td>-1.966877</td>\n",
       "      <td>-1.804153</td>\n",
       "    </tr>\n",
       "  </tbody>\n",
       "</table>\n",
       "<p>2 rows × 216 columns</p>\n",
       "</div>"
      ],
      "text/plain": [
       "       symbol              sector          industry        country  target  \\\n",
       "108298    BFK  Financial Services  Asset Management  United States  9.9435   \n",
       "108299    BFK  Financial Services  Asset Management  United States  9.9600   \n",
       "\n",
       "        target_class   value_0   value_1   value_2   value_3  ...  value_200  \\\n",
       "108298             0  0.954421  1.044754  1.052608  0.996972  ...  -1.696732   \n",
       "108299             0  1.052026  1.059836  1.004514  0.994750  ...  -1.641429   \n",
       "\n",
       "        value_201  value_202  value_203  value_204  value_205  value_206  \\\n",
       "108298  -1.664001  -1.631925  -1.598539  -1.696732  -1.826994  -1.762187   \n",
       "108299  -1.609534  -1.576337  -1.673975  -1.803501  -1.739061  -1.771607   \n",
       "\n",
       "        value_207  value_208  value_209  \n",
       "108298  -1.794918  -1.925842  -1.991298  \n",
       "108299  -1.901791  -1.966877  -1.804153  \n",
       "\n",
       "[2 rows x 216 columns]"
      ]
     },
     "execution_count": 95,
     "metadata": {},
     "output_type": "execute_result"
    }
   ],
   "source": [
    "df_test.head(2)"
   ]
  },
  {
   "cell_type": "code",
   "execution_count": 96,
   "metadata": {},
   "outputs": [],
   "source": [
    "drop_cols = ohe_cols + ['symbol', 'target']\n",
    "target_col = 'target_class'\n",
    "\n",
    "y_train = df_train[target_col]\n",
    "y_test = df_test[target_col]\n",
    "\n",
    "X_train = df_train.drop(columns=drop_cols + [target_col])\n",
    "X_test = df_test.drop(columns=drop_cols + [target_col])\n",
    "\n",
    "X_simple_features_train = pd.concat([df_train_ohe, train_stat_features], axis=1)\n",
    "X_simple_features_test = pd.concat([df_test_ohe, test_stat_features], axis=1)"
   ]
  },
  {
   "cell_type": "code",
   "execution_count": 97,
   "metadata": {},
   "outputs": [
    {
     "name": "stdout",
     "output_type": "stream",
     "text": [
      "(108298, 210) (19112, 210)\n"
     ]
    }
   ],
   "source": [
    "print(X_train.shape, X_test.shape)"
   ]
  },
  {
   "cell_type": "code",
   "execution_count": 98,
   "metadata": {},
   "outputs": [
    {
     "name": "stdout",
     "output_type": "stream",
     "text": [
      "(108298, 75) (19112, 75)\n"
     ]
    }
   ],
   "source": [
    "print(X_simple_features_train.shape, X_simple_features_test.shape)"
   ]
  },
  {
   "cell_type": "code",
   "execution_count": 99,
   "metadata": {},
   "outputs": [],
   "source": [
    "# save\n",
    "import os\n",
    "\n",
    "X_train.to_csv(os.path.join(data_dir, 'X_train.csv'), index=False)\n",
    "X_test.to_csv(os.path.join(data_dir, 'X_test.csv'), index=False)\n",
    "\n",
    "X_simple_features_train.to_csv(os.path.join(data_dir, 'X_simple_features_train.csv'), index=False)\n",
    "X_simple_features_test.to_csv(os.path.join(data_dir, 'X_simple_features_test.csv'), index=False)\n",
    "\n",
    "y_train.to_csv(os.path.join(data_dir, 'y_train.csv'), index=False)\n",
    "y_test.to_csv(os.path.join(data_dir, 'y_test.csv'), index=False)"
   ]
  }
 ],
 "metadata": {
  "kernelspec": {
   "display_name": ".venv",
   "language": "python",
   "name": "python3"
  },
  "language_info": {
   "codemirror_mode": {
    "name": "ipython",
    "version": 3
   },
   "file_extension": ".py",
   "mimetype": "text/x-python",
   "name": "python",
   "nbconvert_exporter": "python",
   "pygments_lexer": "ipython3",
   "version": "3.11.6"
  }
 },
 "nbformat": 4,
 "nbformat_minor": 2
}
