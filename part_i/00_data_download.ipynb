{
 "cells": [
  {
   "cell_type": "code",
   "execution_count": 2,
   "metadata": {},
   "outputs": [],
   "source": [
    "import numpy as np\n",
    "import pandas as pd\n",
    "import matplotlib.pyplot as plt"
   ]
  },
  {
   "cell_type": "code",
   "execution_count": 87,
   "metadata": {},
   "outputs": [],
   "source": [
    "import os\n",
    "\n",
    "root_dir = os.path.abspath('..')\n",
    "data_dir = os.path.join(root_dir, 'data')\n",
    "\n",
    "save_path = os.path.join(data_dir, 'assets_info.csv')"
   ]
  },
  {
   "cell_type": "markdown",
   "metadata": {},
   "source": [
    "## Assets selection\n",
    "\n",
    "I decided to choose 200 random assets from Yahoo Finance."
   ]
  },
  {
   "cell_type": "code",
   "execution_count": 57,
   "metadata": {},
   "outputs": [
    {
     "name": "stdout",
     "output_type": "stream",
     "text": [
      "2762\n",
      "['DDD' 'MMM' 'WBAI' 'WUBA']\n"
     ]
    }
   ],
   "source": [
    "all_tickers = pd.read_csv(\n",
    "    'https://raw.githubusercontent.com/shilewenuw/get_all_tickers/master/get_all_tickers/tickers.csv', \n",
    "    header=None,\n",
    "    # error_bad_lines=False\n",
    ")\n",
    "\n",
    "all_tickers = all_tickers.values.reshape(-1)\n",
    "print(len(all_tickers))\n",
    "print(all_tickers[:4])"
   ]
  },
  {
   "cell_type": "code",
   "execution_count": 58,
   "metadata": {},
   "outputs": [],
   "source": [
    "import random\n",
    "n_assets = 200\n",
    "n_assets_extra = 100 # just in case for some assets information is not available\n",
    "random.seed(0)\n",
    "\n",
    "assets = random.choices(all_tickers, k=n_assets + n_assets_extra)"
   ]
  },
  {
   "cell_type": "code",
   "execution_count": 59,
   "metadata": {},
   "outputs": [
    {
     "data": {
      "text/plain": [
       "(['X', 'SRC', 'HRL', 'DMS', 'MSGE', 'HR', 'TAK', 'ERF', 'KRG', 'NOA'], 300)"
      ]
     },
     "execution_count": 59,
     "metadata": {},
     "output_type": "execute_result"
    }
   ],
   "source": [
    "assets[:10], len(assets)"
   ]
  },
  {
   "cell_type": "code",
   "execution_count": 60,
   "metadata": {},
   "outputs": [],
   "source": [
    "# save assets list to a file\n",
    "with open(os.path.join(data_dir, 'assets.txt'), 'w') as f:\n",
    "    for asset in assets:\n",
    "        f.write(asset + '\\n')"
   ]
  },
  {
   "cell_type": "code",
   "execution_count": 61,
   "metadata": {},
   "outputs": [
    {
     "data": {
      "text/plain": [
       "['X', 'SRC', 'HRL', 'DMS', 'MSGE', 'HR', 'TAK', 'ERF', 'KRG', 'NOA']"
      ]
     },
     "execution_count": 61,
     "metadata": {},
     "output_type": "execute_result"
    }
   ],
   "source": [
    "assets[:10]"
   ]
  },
  {
   "cell_type": "markdown",
   "metadata": {},
   "source": [
    "## Downloading the data"
   ]
  },
  {
   "cell_type": "code",
   "execution_count": 62,
   "metadata": {},
   "outputs": [],
   "source": [
    "import yfinance as yf\n",
    "from tqdm import tqdm"
   ]
  },
  {
   "cell_type": "code",
   "execution_count": 63,
   "metadata": {},
   "outputs": [
    {
     "name": "stderr",
     "output_type": "stream",
     "text": [
      "[*********************100%***********************]  1 of 1 completed\n"
     ]
    },
    {
     "data": {
      "text/plain": [
       "array([174.16999817, 174.81500244, 174.6269989 , 173.90499878,\n",
       "       174.3500061 , 175.44000244, 175.08999634, 169.91000366,\n",
       "       170.61000061, 170.78500366])"
      ]
     },
     "execution_count": 63,
     "metadata": {},
     "output_type": "execute_result"
    }
   ],
   "source": [
    "data = yf.download('AAPL', period='6mo', interval='1h')\n",
    "data.Close.values[:10]"
   ]
  },
  {
   "cell_type": "code",
   "execution_count": 64,
   "metadata": {},
   "outputs": [
    {
     "data": {
      "text/plain": [
       "{'symbol': 'X',\n",
       " 'sector': 'Basic Materials',\n",
       " 'industry': 'Steel',\n",
       " 'country': 'United States'}"
      ]
     },
     "execution_count": 64,
     "metadata": {},
     "output_type": "execute_result"
    }
   ],
   "source": [
    "def get_info(short_name):\n",
    "    info_keys = ['symbol', 'sector', 'industry', 'country']\n",
    "    info_values = []\n",
    "    try:\n",
    "        ticker = yf.Ticker(short_name)\n",
    "    except:\n",
    "        return {key: None for key in info_keys}\n",
    "    for key in info_keys:\n",
    "        info_values.append(ticker.info[key])\n",
    "    return dict(zip(info_keys, info_values))\n",
    "\n",
    "get_info('X')"
   ]
  },
  {
   "cell_type": "code",
   "execution_count": 83,
   "metadata": {},
   "outputs": [
    {
     "name": "stderr",
     "output_type": "stream",
     "text": [
      "  0%|          | 1/300 [00:00<02:34,  1.93it/s]404 Client Error: Not Found for url: https://query2.finance.yahoo.com/v10/finance/quoteSummary/SRC?modules=financialData%2CquoteType%2CdefaultKeyStatistics%2CassetProfile%2CsummaryDetail&corsDomain=finance.yahoo.com&formatted=false&symbol=SRC&crumb=EvYKfLxxD04\n",
      "  1%|          | 3/300 [00:02<03:31,  1.40it/s]404 Client Error: Not Found for url: https://query2.finance.yahoo.com/v10/finance/quoteSummary/DMS?modules=financialData%2CquoteType%2CdefaultKeyStatistics%2CassetProfile%2CsummaryDetail&corsDomain=finance.yahoo.com&formatted=false&symbol=DMS&crumb=EvYKfLxxD04\n",
      "  2%|▏         | 7/300 [00:04<02:24,  2.03it/s]404 Client Error: Not Found for url: https://query2.finance.yahoo.com/v10/finance/quoteSummary/ERF?modules=financialData%2CquoteType%2CdefaultKeyStatistics%2CassetProfile%2CsummaryDetail&corsDomain=finance.yahoo.com&formatted=false&symbol=ERF&crumb=EvYKfLxxD04\n",
      "  9%|▉         | 27/300 [00:11<01:47,  2.55it/s]404 Client Error: Not Found for url: https://query2.finance.yahoo.com/v10/finance/quoteSummary/JSD?modules=financialData%2CquoteType%2CdefaultKeyStatistics%2CassetProfile%2CsummaryDetail&corsDomain=finance.yahoo.com&formatted=false&symbol=JSD&crumb=EvYKfLxxD04\n",
      " 12%|█▏        | 36/300 [00:15<01:40,  2.62it/s]404 Client Error: Not Found for url: https://query2.finance.yahoo.com/v10/finance/quoteSummary/SMM?modules=financialData%2CquoteType%2CdefaultKeyStatistics%2CassetProfile%2CsummaryDetail&corsDomain=finance.yahoo.com&formatted=false&symbol=SMM&crumb=EvYKfLxxD04\n",
      " 14%|█▍        | 43/300 [00:18<01:38,  2.62it/s]404 Client Error: Not Found for url: https://query2.finance.yahoo.com/v10/finance/quoteSummary/CURO?modules=financialData%2CquoteType%2CdefaultKeyStatistics%2CassetProfile%2CsummaryDetail&corsDomain=finance.yahoo.com&formatted=false&symbol=CURO&crumb=EvYKfLxxD04\n",
      " 16%|█▌        | 48/300 [00:20<01:02,  4.02it/s]404 Client Error: Not Found for url: https://query2.finance.yahoo.com/v10/finance/quoteSummary/CPG?modules=financialData%2CquoteType%2CdefaultKeyStatistics%2CassetProfile%2CsummaryDetail&corsDomain=finance.yahoo.com&formatted=false&symbol=CPG&crumb=EvYKfLxxD04\n",
      " 18%|█▊        | 54/300 [00:23<01:29,  2.75it/s]404 Client Error: Not Found for url: https://query2.finance.yahoo.com/v10/finance/quoteSummary/MDC?modules=financialData%2CquoteType%2CdefaultKeyStatistics%2CassetProfile%2CsummaryDetail&corsDomain=finance.yahoo.com&formatted=false&symbol=MDC&crumb=EvYKfLxxD04\n",
      " 19%|█▉        | 58/300 [00:24<01:34,  2.56it/s]404 Client Error: Not Found for url: https://query2.finance.yahoo.com/v10/finance/quoteSummary/RAD?modules=financialData%2CquoteType%2CdefaultKeyStatistics%2CassetProfile%2CsummaryDetail&corsDomain=finance.yahoo.com&formatted=false&symbol=RAD&crumb=EvYKfLxxD04\n",
      " 21%|██        | 62/300 [00:26<01:27,  2.73it/s]404 Client Error: Not Found for url: https://query2.finance.yahoo.com/v10/finance/quoteSummary/KIQ?modules=financialData%2CquoteType%2CdefaultKeyStatistics%2CassetProfile%2CsummaryDetail&corsDomain=finance.yahoo.com&formatted=false&symbol=KIQ&crumb=EvYKfLxxD04\n",
      " 23%|██▎       | 69/300 [00:29<01:10,  3.26it/s]404 Client Error: Not Found for url: https://query2.finance.yahoo.com/v10/finance/quoteSummary/EXD?modules=financialData%2CquoteType%2CdefaultKeyStatistics%2CassetProfile%2CsummaryDetail&corsDomain=finance.yahoo.com&formatted=false&symbol=EXD&crumb=EvYKfLxxD04\n",
      " 24%|██▍       | 72/300 [00:30<01:35,  2.40it/s]404 Client Error: Not Found for url: https://query2.finance.yahoo.com/v10/finance/quoteSummary/NIQ?modules=financialData%2CquoteType%2CdefaultKeyStatistics%2CassetProfile%2CsummaryDetail&corsDomain=finance.yahoo.com&formatted=false&symbol=NIQ&crumb=EvYKfLxxD04\n",
      " 33%|███▎      | 98/300 [00:40<01:08,  2.96it/s]404 Client Error: Not Found for url: https://query2.finance.yahoo.com/v10/finance/quoteSummary/NIQ?modules=financialData%2CquoteType%2CdefaultKeyStatistics%2CassetProfile%2CsummaryDetail&corsDomain=finance.yahoo.com&formatted=false&symbol=NIQ&crumb=EvYKfLxxD04\n",
      " 40%|███▉      | 119/300 [00:47<00:59,  3.06it/s]404 Client Error: Not Found for url: https://query2.finance.yahoo.com/v10/finance/quoteSummary/JPS?modules=financialData%2CquoteType%2CdefaultKeyStatistics%2CassetProfile%2CsummaryDetail&corsDomain=finance.yahoo.com&formatted=false&symbol=JPS&crumb=EvYKfLxxD04\n",
      " 43%|████▎     | 128/300 [00:51<01:17,  2.21it/s]404 Client Error: Not Found for url: https://query2.finance.yahoo.com/v10/finance/quoteSummary/MCA?modules=financialData%2CquoteType%2CdefaultKeyStatistics%2CassetProfile%2CsummaryDetail&corsDomain=finance.yahoo.com&formatted=false&symbol=MCA&crumb=EvYKfLxxD04\n",
      " 50%|█████     | 151/300 [01:01<00:47,  3.11it/s]404 Client Error: Not Found for url: https://query2.finance.yahoo.com/v10/finance/quoteSummary/MTCN?modules=financialData%2CquoteType%2CdefaultKeyStatistics%2CassetProfile%2CsummaryDetail&corsDomain=finance.yahoo.com&formatted=false&symbol=MTCN&crumb=EvYKfLxxD04\n",
      " 51%|█████▏    | 154/300 [01:03<01:06,  2.20it/s]404 Client Error: Not Found for url: https://query2.finance.yahoo.com/v10/finance/quoteSummary/UNVR?modules=financialData%2CquoteType%2CdefaultKeyStatistics%2CassetProfile%2CsummaryDetail&corsDomain=finance.yahoo.com&formatted=false&symbol=UNVR&crumb=EvYKfLxxD04\n",
      " 52%|█████▏    | 155/300 [01:04<01:23,  1.74it/s]404 Client Error: Not Found for url: https://query2.finance.yahoo.com/v10/finance/quoteSummary/FEO?modules=financialData%2CquoteType%2CdefaultKeyStatistics%2CassetProfile%2CsummaryDetail&corsDomain=finance.yahoo.com&formatted=false&symbol=FEO&crumb=EvYKfLxxD04\n",
      " 54%|█████▎    | 161/300 [01:06<00:50,  2.77it/s]404 Client Error: Not Found for url: https://query2.finance.yahoo.com/v10/finance/quoteSummary/HT?modules=financialData%2CquoteType%2CdefaultKeyStatistics%2CassetProfile%2CsummaryDetail&corsDomain=finance.yahoo.com&formatted=false&symbol=HT&crumb=EvYKfLxxD04\n",
      " 57%|█████▋    | 172/300 [01:11<00:47,  2.72it/s]404 Client Error: Not Found for url: https://query2.finance.yahoo.com/v10/finance/quoteSummary/ABC?modules=financialData%2CquoteType%2CdefaultKeyStatistics%2CassetProfile%2CsummaryDetail&corsDomain=finance.yahoo.com&formatted=false&symbol=ABC&crumb=EvYKfLxxD04\n",
      " 58%|█████▊    | 173/300 [01:12<01:02,  2.02it/s]404 Client Error: Not Found for url: https://query2.finance.yahoo.com/v10/finance/quoteSummary/ESTE?modules=financialData%2CquoteType%2CdefaultKeyStatistics%2CassetProfile%2CsummaryDetail&corsDomain=finance.yahoo.com&formatted=false&symbol=ESTE&crumb=EvYKfLxxD04\n",
      " 67%|██████▋   | 201/300 [01:23<00:41,  2.36it/s]404 Client Error: Not Found for url: https://query2.finance.yahoo.com/v10/finance/quoteSummary/DMS?modules=financialData%2CquoteType%2CdefaultKeyStatistics%2CassetProfile%2CsummaryDetail&corsDomain=finance.yahoo.com&formatted=false&symbol=DMS&crumb=EvYKfLxxD04\n",
      " 72%|███████▏  | 217/300 [01:30<00:35,  2.34it/s]404 Client Error: Not Found for url: https://query2.finance.yahoo.com/v10/finance/quoteSummary/AXO?modules=financialData%2CquoteType%2CdefaultKeyStatistics%2CassetProfile%2CsummaryDetail&corsDomain=finance.yahoo.com&formatted=false&symbol=AXO&crumb=EvYKfLxxD04\n",
      " 80%|███████▉  | 239/300 [01:39<00:15,  3.94it/s]404 Client Error: Not Found for url: https://query2.finance.yahoo.com/v10/finance/quoteSummary/IVH?modules=financialData%2CquoteType%2CdefaultKeyStatistics%2CassetProfile%2CsummaryDetail&corsDomain=finance.yahoo.com&formatted=false&symbol=IVH&crumb=EvYKfLxxD04\n",
      " 81%|████████  | 242/300 [01:41<00:22,  2.55it/s]404 Client Error: Not Found for url: https://query2.finance.yahoo.com/v10/finance/quoteSummary/APRN?modules=financialData%2CquoteType%2CdefaultKeyStatistics%2CassetProfile%2CsummaryDetail&corsDomain=finance.yahoo.com&formatted=false&symbol=APRN&crumb=EvYKfLxxD04\n",
      " 84%|████████▍ | 253/300 [01:45<00:12,  3.63it/s]404 Client Error: Not Found for url: https://query2.finance.yahoo.com/v10/finance/quoteSummary/DLA?modules=financialData%2CquoteType%2CdefaultKeyStatistics%2CassetProfile%2CsummaryDetail&corsDomain=finance.yahoo.com&formatted=false&symbol=DLA&crumb=EvYKfLxxD04\n",
      "100%|██████████| 300/300 [02:03<00:00,  2.43it/s]"
     ]
    },
    {
     "name": "stdout",
     "output_type": "stream",
     "text": [
      "Skipped 79 tickers\n"
     ]
    },
    {
     "name": "stderr",
     "output_type": "stream",
     "text": [
      "\n"
     ]
    }
   ],
   "source": [
    "is_already_downloaded = os.path.exists(save_path)\n",
    "\n",
    "if is_already_downloaded:\n",
    "    assets_info = pd.read_csv(save_path)\n",
    "else:\n",
    "    full_ticker_data = []\n",
    "\n",
    "    n_skip = 0\n",
    "    for ticker in tqdm(assets):\n",
    "        try:\n",
    "            info = get_info(ticker)\n",
    "            data = yf.download(ticker, period='6mo', interval='1h', progress=False)\n",
    "            if len(data) == 0:\n",
    "                n_skip += 1\n",
    "                continue\n",
    "            info['data'] = data.Close.to_dict()\n",
    "            full_ticker_data.append(info)\n",
    "        except:\n",
    "            n_skip += 1\n",
    "            continue\n",
    "\n",
    "    print(f\"Skipped {n_skip} tickers\")\n",
    "    assert n_skip < n_assets_extra, f\"Too many tickers are skipped ({n_skip} out of {n_assets_extra})\"\n",
    "    full_ticker_data = full_ticker_data[:n_assets]\n",
    "    assets_info = pd.DataFrame(full_ticker_data)"
   ]
  },
  {
   "cell_type": "code",
   "execution_count": 84,
   "metadata": {},
   "outputs": [
    {
     "data": {
      "text/html": [
       "<div>\n",
       "<style scoped>\n",
       "    .dataframe tbody tr th:only-of-type {\n",
       "        vertical-align: middle;\n",
       "    }\n",
       "\n",
       "    .dataframe tbody tr th {\n",
       "        vertical-align: top;\n",
       "    }\n",
       "\n",
       "    .dataframe thead th {\n",
       "        text-align: right;\n",
       "    }\n",
       "</style>\n",
       "<table border=\"1\" class=\"dataframe\">\n",
       "  <thead>\n",
       "    <tr style=\"text-align: right;\">\n",
       "      <th></th>\n",
       "      <th>symbol</th>\n",
       "      <th>sector</th>\n",
       "      <th>industry</th>\n",
       "      <th>country</th>\n",
       "      <th>data</th>\n",
       "    </tr>\n",
       "  </thead>\n",
       "  <tbody>\n",
       "    <tr>\n",
       "      <th>0</th>\n",
       "      <td>X</td>\n",
       "      <td>Basic Materials</td>\n",
       "      <td>Steel</td>\n",
       "      <td>United States</td>\n",
       "      <td>{2024-03-04 09:30:00-05:00: 47.45000076293945,...</td>\n",
       "    </tr>\n",
       "    <tr>\n",
       "      <th>1</th>\n",
       "      <td>HRL</td>\n",
       "      <td>Consumer Defensive</td>\n",
       "      <td>Packaged Foods</td>\n",
       "      <td>United States</td>\n",
       "      <td>{2024-03-04 09:30:00-05:00: 33.505001068115234...</td>\n",
       "    </tr>\n",
       "    <tr>\n",
       "      <th>2</th>\n",
       "      <td>MSGE</td>\n",
       "      <td>Consumer Cyclical</td>\n",
       "      <td>Leisure</td>\n",
       "      <td>United States</td>\n",
       "      <td>{2024-03-04 09:30:00-05:00: 38.47999954223633,...</td>\n",
       "    </tr>\n",
       "    <tr>\n",
       "      <th>3</th>\n",
       "      <td>HR</td>\n",
       "      <td>Real Estate</td>\n",
       "      <td>REIT - Healthcare Facilities</td>\n",
       "      <td>United States</td>\n",
       "      <td>{2024-03-04 09:30:00-05:00: 13.694999694824219...</td>\n",
       "    </tr>\n",
       "    <tr>\n",
       "      <th>4</th>\n",
       "      <td>TAK</td>\n",
       "      <td>Healthcare</td>\n",
       "      <td>Drug Manufacturers - Specialty &amp; Generic</td>\n",
       "      <td>Japan</td>\n",
       "      <td>{2024-03-04 09:30:00-05:00: 14.449999809265137...</td>\n",
       "    </tr>\n",
       "  </tbody>\n",
       "</table>\n",
       "</div>"
      ],
      "text/plain": [
       "  symbol              sector                                  industry  \\\n",
       "0      X     Basic Materials                                     Steel   \n",
       "1    HRL  Consumer Defensive                            Packaged Foods   \n",
       "2   MSGE   Consumer Cyclical                                   Leisure   \n",
       "3     HR         Real Estate              REIT - Healthcare Facilities   \n",
       "4    TAK          Healthcare  Drug Manufacturers - Specialty & Generic   \n",
       "\n",
       "         country                                               data  \n",
       "0  United States  {2024-03-04 09:30:00-05:00: 47.45000076293945,...  \n",
       "1  United States  {2024-03-04 09:30:00-05:00: 33.505001068115234...  \n",
       "2  United States  {2024-03-04 09:30:00-05:00: 38.47999954223633,...  \n",
       "3  United States  {2024-03-04 09:30:00-05:00: 13.694999694824219...  \n",
       "4          Japan  {2024-03-04 09:30:00-05:00: 14.449999809265137...  "
      ]
     },
     "execution_count": 84,
     "metadata": {},
     "output_type": "execute_result"
    }
   ],
   "source": [
    "assets_info.head()"
   ]
  },
  {
   "cell_type": "code",
   "execution_count": 85,
   "metadata": {},
   "outputs": [
    {
     "data": {
      "text/plain": [
       "<Axes: >"
      ]
     },
     "execution_count": 85,
     "metadata": {},
     "output_type": "execute_result"
    },
    {
     "data": {
      "image/png": "[encoded data removed]",
      "text/plain": [
       "<Figure size 640x480 with 1 Axes>"
      ]
     },
     "metadata": {},
     "output_type": "display_data"
    }
   ],
   "source": [
    "pd.Series(assets_info.at[0, 'data']).plot()"
   ]
  },
  {
   "cell_type": "code",
   "execution_count": 88,
   "metadata": {},
   "outputs": [
    {
     "data": {
      "text/plain": [
       "symbol      0\n",
       "sector      0\n",
       "industry    0\n",
       "country     0\n",
       "data        0\n",
       "dtype: int64"
      ]
     },
     "execution_count": 88,
     "metadata": {},
     "output_type": "execute_result"
    }
   ],
   "source": [
    "# count nans\n",
    "assets_info.isna().sum()"
   ]
  },
  {
   "cell_type": "code",
   "execution_count": 89,
   "metadata": {},
   "outputs": [
    {
     "data": {
      "text/plain": [
       "200"
      ]
     },
     "execution_count": 89,
     "metadata": {},
     "output_type": "execute_result"
    }
   ],
   "source": [
    "len(assets_info)"
   ]
  },
  {
   "cell_type": "code",
   "execution_count": 86,
   "metadata": {},
   "outputs": [],
   "source": [
    "assets_info.to_csv(save_path, index=False)"
   ]
  }
 ],
 "metadata": {
  "kernelspec": {
   "display_name": ".venv",
   "language": "python",
   "name": "python3"
  },
  "language_info": {
   "codemirror_mode": {
    "name": "ipython",
    "version": 3
   },
   "file_extension": ".py",
   "mimetype": "text/x-python",
   "name": "python",
   "nbconvert_exporter": "python",
   "pygments_lexer": "ipython3",
   "version": "3.11.6"
  }
 },
 "nbformat": 4,
 "nbformat_minor": 2
}
