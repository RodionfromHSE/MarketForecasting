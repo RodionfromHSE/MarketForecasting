{
 "cells": [
  {
   "cell_type": "code",
   "execution_count": 1,
   "metadata": {},
   "outputs": [],
   "source": [
    "import os\n",
    "\n",
    "root_dir = os.path.abspath('..')\n",
    "data_dir = os.path.join(root_dir, 'data')\n",
    "save_path = os.path.join(data_dir, 'assets_info.csv')"
   ]
  },
  {
   "cell_type": "code",
   "execution_count": 2,
   "metadata": {},
   "outputs": [],
   "source": [
    "import pandas as pd\n",
    "import numpy as np"
   ]
  },
  {
   "cell_type": "markdown",
   "metadata": {},
   "source": [
    "## Sliding Window & Target"
   ]
  },
  {
   "cell_type": "markdown",
   "metadata": {},
   "source": [
    "It's pretty interesting that market works not on all days (weekends & holidays).\n",
    "\n",
    "Also, it works from 9am to 4pm (Eastern Time).\n",
    "\n",
    "\n",
    "For this reason, I will consider all the available days as continuous.\n",
    "\n",
    "And, in the day, I'll have 7 hours of data (from 9am to 4pm)."
   ]
  },
  {
   "cell_type": "code",
   "execution_count": 3,
   "metadata": {},
   "outputs": [],
   "source": [
    "data = pd.read_csv(save_path)"
   ]
  },
  {
   "cell_type": "code",
   "execution_count": 4,
   "metadata": {},
   "outputs": [],
   "source": [
    "def create_sliding_windows(data, window_size, future_offset):\n",
    "    \"\"\"\n",
    "    Create sliding windows and corresponding targets from time series data.\n",
    "    \n",
    "    Parameters:\n",
    "    - data: np.array, time series data (e.g., closing prices).\n",
    "    - window_size: int, the number of points to include in each window (e.g., 30 days * 24 hours = 720).\n",
    "    - future_offset: int, how many points ahead to select the target value (e.g., 24 for 24 hours later).\n",
    "    \n",
    "    Returns:\n",
    "    - X_windows: np.array, 2D array where each row is a window of size `window_size`.\n",
    "    - y_targets: np.array, 1D array of target values corresponding to each window.\n",
    "    \"\"\"\n",
    "    \n",
    "    # Initialize lists to store windows and targets\n",
    "    X_windows = []\n",
    "    y_targets = []\n",
    "    \n",
    "    # Sliding window loop\n",
    "    for i in range(len(data) - window_size - future_offset):\n",
    "        # Extract the window of `window_size` points\n",
    "        window = data[i:i + window_size]\n",
    "        \n",
    "        # Extract the target value `future_offset` points after the window ends\n",
    "        target = data[i + window_size + future_offset - 1]\n",
    "        \n",
    "        # Append the window and target to their respective lists\n",
    "        X_windows.append(window)\n",
    "        y_targets.append(target)\n",
    "    \n",
    "    # Convert the lists to numpy arrays\n",
    "    X_windows = np.array(X_windows)\n",
    "    y_targets = np.array(y_targets)\n",
    "    \n",
    "    return X_windows, y_targets\n"
   ]
  },
  {
   "cell_type": "code",
   "execution_count": 5,
   "metadata": {},
   "outputs": [
    {
     "name": "stdout",
     "output_type": "stream",
     "text": [
      "X_windows shape: (783, 210)\n",
      "y_targets shape: (783,)\n"
     ]
    }
   ],
   "source": [
    "# Example time series data (close prices)\n",
    "data_ = np.array([i for i in range(1000)])  # Replace with your actual time series data\n",
    "\n",
    "# Set the parameters\n",
    "window_size = 30 * 7  # 30 days * 7 hours = 210 points per window\n",
    "future_offset = 7  # Target is the price 7 hours later\n",
    "\n",
    "# Call the function\n",
    "X_windows, y_targets = create_sliding_windows(data_, window_size, future_offset)\n",
    "\n",
    "# Check the output\n",
    "print(f'X_windows shape: {X_windows.shape}')  # Each row is a window of 720 points\n",
    "print(f'y_targets shape: {y_targets.shape}')  # Corresponding targets\n",
    "\n",
    "assert X_windows.shape[0] == y_targets.shape[0], 'Number of windows and targets do not match!'\n",
    "assert X_windows.shape == (1000 - window_size - future_offset, window_size), 'Incorrect shape for X_windows!'"
   ]
  },
  {
   "cell_type": "code",
   "execution_count": 6,
   "metadata": {},
   "outputs": [
    {
     "data": {
      "text/html": [
       "<div>\n",
       "<style scoped>\n",
       "    .dataframe tbody tr th:only-of-type {\n",
       "        vertical-align: middle;\n",
       "    }\n",
       "\n",
       "    .dataframe tbody tr th {\n",
       "        vertical-align: top;\n",
       "    }\n",
       "\n",
       "    .dataframe thead th {\n",
       "        text-align: right;\n",
       "    }\n",
       "</style>\n",
       "<table border=\"1\" class=\"dataframe\">\n",
       "  <thead>\n",
       "    <tr style=\"text-align: right;\">\n",
       "      <th></th>\n",
       "      <th>symbol</th>\n",
       "      <th>sector</th>\n",
       "      <th>industry</th>\n",
       "      <th>country</th>\n",
       "      <th>data</th>\n",
       "    </tr>\n",
       "  </thead>\n",
       "  <tbody>\n",
       "    <tr>\n",
       "      <th>0</th>\n",
       "      <td>X</td>\n",
       "      <td>Basic Materials</td>\n",
       "      <td>Steel</td>\n",
       "      <td>United States</td>\n",
       "      <td>{Timestamp('2024-03-04 09:30:00-0500', tz='Ame...</td>\n",
       "    </tr>\n",
       "    <tr>\n",
       "      <th>1</th>\n",
       "      <td>HRL</td>\n",
       "      <td>Consumer Defensive</td>\n",
       "      <td>Packaged Foods</td>\n",
       "      <td>United States</td>\n",
       "      <td>{Timestamp('2024-03-04 09:30:00-0500', tz='Ame...</td>\n",
       "    </tr>\n",
       "  </tbody>\n",
       "</table>\n",
       "</div>"
      ],
      "text/plain": [
       "  symbol              sector        industry        country  \\\n",
       "0      X     Basic Materials           Steel  United States   \n",
       "1    HRL  Consumer Defensive  Packaged Foods  United States   \n",
       "\n",
       "                                                data  \n",
       "0  {Timestamp('2024-03-04 09:30:00-0500', tz='Ame...  \n",
       "1  {Timestamp('2024-03-04 09:30:00-0500', tz='Ame...  "
      ]
     },
     "execution_count": 6,
     "metadata": {},
     "output_type": "execute_result"
    }
   ],
   "source": [
    "data.head(2)"
   ]
  },
  {
   "cell_type": "code",
   "execution_count": 7,
   "metadata": {},
   "outputs": [
    {
     "data": {
      "text/plain": [
       "({'symbol': 'X',\n",
       "  'sector': 'Basic Materials',\n",
       "  'industry': 'Steel',\n",
       "  'country': 'United States'},\n",
       " array([47.45000076, 47.45500183, 47.77999878]))"
      ]
     },
     "execution_count": 7,
     "metadata": {},
     "output_type": "execute_result"
    }
   ],
   "source": [
    "from pandas import Timestamp\n",
    "\n",
    "\n",
    "FEATURE_COLS = ['symbol', 'sector', 'industry', 'country']\n",
    "def get_features(data_row):\n",
    "    return data_row[FEATURE_COLS].to_dict()\n",
    "\n",
    "def get_values(data_row):\n",
    "    data_str = data_row['data'] # str(dict)\n",
    "    data_dict = eval(data_str)\n",
    "    return np.array(list(data_dict.values()))\n",
    "\n",
    "data_row_ = data.iloc[0]\n",
    "features = get_features(data_row_)\n",
    "values = get_values(data_row_)\n",
    "features, values[:3]"
   ]
  },
  {
   "cell_type": "code",
   "execution_count": 8,
   "metadata": {},
   "outputs": [
    {
     "name": "stdout",
     "output_type": "stream",
     "text": [
      "{'symbol': 'X', 'sector': 'Basic Materials', 'industry': 'Steel', 'country': 'United States', 'value_0': np.float64(47.45000076293945), 'value_1': np.float64(47.45500183105469), 'value_2': np.float64(47.779998779296875), 'value_3': np.float64(47.814998626708984), 'value_4': np.float64(47.78499984741211), 'value_5': np.float64(47.755001068115234), 'value_6': np.float64(47.69499969482422), 'value_7': np.float64(47.650001525878906), 'value_8': np.float64(47.939998626708984), 'value_9': np.float64(48.005001068115234), 'value_10': np.float64(48.03499984741211), 'value_11': np.float64(48.07500076293945), 'value_12': np.float64(48.04499816894531), 'value_13': np.float64(47.7599983215332), 'value_14': np.float64(47.36000061035156), 'value_15': np.float64(47.38999938964844), 'value_16': np.float64(47.20000076293945), 'value_17': np.float64(47.1150016784668), 'value_18': np.float64(47.16999816894531), 'value_19': np.float64(47.229000091552734), 'value_20': np.float64(47.20000076293945), 'value_21': np.float64(47.439998626708984), 'value_22': np.float64(47.5), 'value_23': np.float64(47.32500076293945), 'value_24': np.float64(47.39500045776367), 'value_25': np.float64(47.119998931884766), 'value_26': np.float64(47.349998474121094), 'value_27': np.float64(47.56999969482422), 'value_28': np.float64(47.53499984741211), 'value_29': np.float64(47.654998779296875), 'value_30': np.float64(47.67499923706055), 'value_31': np.float64(47.69499969482422), 'value_32': np.float64(47.6150016784668), 'value_33': np.float64(47.529998779296875), 'value_34': np.float64(47.43000030517578), 'value_35': np.float64(47.5099983215332), 'value_36': np.float64(47.4900016784668), 'value_37': np.float64(47.56999969482422), 'value_38': np.float64(47.43000030517578), 'value_39': np.float64(47.29999923706055), 'value_40': np.float64(47.19499969482422), 'value_41': np.float64(47.11000061035156), 'value_42': np.float64(46.959999084472656), 'value_43': np.float64(47.0), 'value_44': np.float64(46.96500015258789), 'value_45': np.float64(46.95000076293945), 'value_46': np.float64(46.94499969482422), 'value_47': np.float64(46.95000076293945), 'value_48': np.float64(46.849998474121094), 'value_49': np.float64(46.08000183105469), 'value_50': np.float64(46.29999923706055), 'value_51': np.float64(46.39500045776367), 'value_52': np.float64(41.555198669433594), 'value_53': np.float64(41.70500183105469), 'value_54': np.float64(40.7599983215332), 'value_55': np.float64(40.849998474121094), 'value_56': np.float64(40.040000915527344), 'value_57': np.float64(40.099998474121094), 'value_58': np.float64(40.20500183105469), 'value_59': np.float64(38.95000076293945), 'value_60': np.float64(37.470001220703125), 'value_61': np.float64(37.15629959106445), 'value_62': np.float64(38.2599983215332), 'value_63': np.float64(37.92499923706055), 'value_64': np.float64(38.42499923706055), 'value_65': np.float64(38.54249954223633), 'value_66': np.float64(39.03499984741211), 'value_67': np.float64(38.994998931884766), 'value_68': np.float64(38.80009841918945), 'value_69': np.float64(38.86000061035156), 'value_70': np.float64(38.89500045776367), 'value_71': np.float64(39.005001068115234), 'value_72': np.float64(39.005001068115234), 'value_73': np.float64(39.21500015258789), 'value_74': np.float64(39.244998931884766), 'value_75': np.float64(39.150001525878906), 'value_76': np.float64(38.869998931884766), 'value_77': np.float64(39.31999969482422), 'value_78': np.float64(39.599998474121094), 'value_79': np.float64(39.70500183105469), 'value_80': np.float64(39.6150016784668), 'value_81': np.float64(39.540000915527344), 'value_82': np.float64(39.58599853515625), 'value_83': np.float64(39.7400016784668), 'value_84': np.float64(39.9900016784668), 'value_85': np.float64(39.959999084472656), 'value_86': np.float64(39.81999969482422), 'value_87': np.float64(39.814998626708984), 'value_88': np.float64(39.720001220703125), 'value_89': np.float64(39.939998626708984), 'value_90': np.float64(39.68000030517578), 'value_91': np.float64(39.5099983215332), 'value_92': np.float64(39.900001525878906), 'value_93': np.float64(39.96500015258789), 'value_94': np.float64(39.9900016784668), 'value_95': np.float64(40.0), 'value_96': np.float64(40.060001373291016), 'value_97': np.float64(40.040000915527344), 'value_98': np.float64(39.9900016784668), 'value_99': np.float64(39.88629913330078), 'value_100': np.float64(39.84000015258789), 'value_101': np.float64(39.875), 'value_102': np.float64(39.82749938964844), 'value_103': np.float64(39.72999954223633), 'value_104': np.float64(39.66999816894531), 'value_105': np.float64(39.93000030517578), 'value_106': np.float64(39.935001373291016), 'value_107': np.float64(40.025001525878906), 'value_108': np.float64(40.1349983215332), 'value_109': np.float64(40.25), 'value_110': np.float64(40.349998474121094), 'value_111': np.float64(40.2599983215332), 'value_112': np.float64(40.36000061035156), 'value_113': np.float64(40.28390121459961), 'value_114': np.float64(40.400001525878906), 'value_115': np.float64(40.44499969482422), 'value_116': np.float64(40.73780059814453), 'value_117': np.float64(40.69499969482422), 'value_118': np.float64(40.68000030517578), 'value_119': np.float64(41.09000015258789), 'value_120': np.float64(41.34000015258789), 'value_121': np.float64(41.404998779296875), 'value_122': np.float64(41.125), 'value_123': np.float64(41.17499923706055), 'value_124': np.float64(41.04999923706055), 'value_125': np.float64(41.02000045776367), 'value_126': np.float64(41.119998931884766), 'value_127': np.float64(41.17499923706055), 'value_128': np.float64(41.06999969482422), 'value_129': np.float64(40.94499969482422), 'value_130': np.float64(40.95500183105469), 'value_131': np.float64(40.959999084472656), 'value_132': np.float64(40.75), 'value_133': np.float64(41.314998626708984), 'value_134': np.float64(41.5), 'value_135': np.float64(41.439998626708984), 'value_136': np.float64(41.86000061035156), 'value_137': np.float64(41.78499984741211), 'value_138': np.float64(41.775001525878906), 'value_139': np.float64(41.83000183105469), 'value_140': np.float64(41.244998931884766), 'value_141': np.float64(41.18000030517578), 'value_142': np.float64(41.15999984741211), 'value_143': np.float64(41.130001068115234), 'value_144': np.float64(41.279998779296875), 'value_145': np.float64(41.040000915527344), 'value_146': np.float64(41.40999984741211), 'value_147': np.float64(41.489898681640625), 'value_148': np.float64(41.90999984741211), 'value_149': np.float64(41.95109939575195), 'value_150': np.float64(42.005001068115234), 'value_151': np.float64(42.029998779296875), 'value_152': np.float64(41.89500045776367), 'value_153': np.float64(41.849998474121094), 'value_154': np.float64(41.959999084472656), 'value_155': np.float64(41.95000076293945), 'value_156': np.float64(42.11000061035156), 'value_157': np.float64(41.90999984741211), 'value_158': np.float64(41.84000015258789), 'value_159': np.float64(41.52000045776367), 'value_160': np.float64(41.11000061035156), 'value_161': np.float64(41.30500030517578), 'value_162': np.float64(41.38999938964844), 'value_163': np.float64(41.25), 'value_164': np.float64(41.2599983215332), 'value_165': np.float64(41.20000076293945), 'value_166': np.float64(41.10499954223633), 'value_167': np.float64(41.22999954223633), 'value_168': np.float64(41.10499954223633), 'value_169': np.float64(41.16999816894531), 'value_170': np.float64(40.8650016784668), 'value_171': np.float64(40.939998626708984), 'value_172': np.float64(40.810001373291016), 'value_173': np.float64(40.68000030517578), 'value_174': np.float64(40.599998474121094), 'value_175': np.float64(40.709999084472656), 'value_176': np.float64(40.775001525878906), 'value_177': np.float64(41.290000915527344), 'value_178': np.float64(41.43000030517578), 'value_179': np.float64(41.689998626708984), 'value_180': np.float64(41.95000076293945), 'value_181': np.float64(41.935001373291016), 'value_182': np.float64(41.79999923706055), 'value_183': np.float64(41.959999084472656), 'value_184': np.float64(41.82500076293945), 'value_185': np.float64(41.91999816894531), 'value_186': np.float64(42.40999984741211), 'value_187': np.float64(42.470001220703125), 'value_188': np.float64(42.61000061035156), 'value_189': np.float64(42.43000030517578), 'value_190': np.float64(42.345001220703125), 'value_191': np.float64(42.48500061035156), 'value_192': np.float64(42.41999816894531), 'value_193': np.float64(42.48500061035156), 'value_194': np.float64(42.415000915527344), 'value_195': np.float64(42.2400016784668), 'value_196': np.float64(42.16999816894531), 'value_197': np.float64(41.7666015625), 'value_198': np.float64(41.27000045776367), 'value_199': np.float64(41.165000915527344), 'value_200': np.float64(41.13999938964844), 'value_201': np.float64(40.994998931884766), 'value_202': np.float64(41.34000015258789), 'value_203': np.float64(41.33000183105469), 'value_204': np.float64(41.2400016784668), 'value_205': np.float64(41.209999084472656), 'value_206': np.float64(40.90760040283203), 'value_207': np.float64(40.93000030517578), 'value_208': np.float64(40.724998474121094), 'value_209': np.float64(40.83000183105469), 'target': np.float64(40.29999923706055)}\n"
     ]
    }
   ],
   "source": [
    "from copy import deepcopy\n",
    "\n",
    "def row_to_samples(data_row, window_size, future_offset):\n",
    "    features = get_features(data_row)\n",
    "    values = get_values(data_row)\n",
    "    X_windows, y_targets = create_sliding_windows(values, window_size, future_offset)\n",
    "    for i in range(len(X_windows)):\n",
    "        sample = deepcopy(features)\n",
    "        sample.update({f'value_{j}': X_windows[i][j] for j in range(window_size)})\n",
    "        sample['target'] = y_targets[i]\n",
    "        yield sample\n",
    "    \n",
    "\n",
    "# Set the parameters\n",
    "window_size = 30 * 7  # 30 days * 7 hours = 210 points per window\n",
    "future_offset = 7  # Target is the price 7 hours later\n",
    "\n",
    "# Get the first row of data\n",
    "data_row_ = data.iloc[0]\n",
    "cnt = 10\n",
    "for sample in row_to_samples(data_row_, window_size, future_offset):\n",
    "    print(sample)\n",
    "    break"
   ]
  },
  {
   "cell_type": "code",
   "execution_count": 9,
   "metadata": {},
   "outputs": [],
   "source": [
    "# data --> dataframe\n",
    "\n",
    "def data_to_samples(data, window_size, future_offset):\n",
    "    for _, data_row in data.iterrows():\n",
    "        yield from row_to_samples(data_row, window_size, future_offset)\n",
    "\n",
    "df = pd.DataFrame(data_to_samples(data, window_size, future_offset))"
   ]
  },
  {
   "cell_type": "code",
   "execution_count": 10,
   "metadata": {},
   "outputs": [
    {
     "name": "stdout",
     "output_type": "stream",
     "text": [
      "Number of samples: 127410\n"
     ]
    }
   ],
   "source": [
    "print(f'Number of samples: {len(df)}')"
   ]
  },
  {
   "cell_type": "code",
   "execution_count": 11,
   "metadata": {},
   "outputs": [
    {
     "data": {
      "text/html": [
       "<div>\n",
       "<style scoped>\n",
       "    .dataframe tbody tr th:only-of-type {\n",
       "        vertical-align: middle;\n",
       "    }\n",
       "\n",
       "    .dataframe tbody tr th {\n",
       "        vertical-align: top;\n",
       "    }\n",
       "\n",
       "    .dataframe thead th {\n",
       "        text-align: right;\n",
       "    }\n",
       "</style>\n",
       "<table border=\"1\" class=\"dataframe\">\n",
       "  <thead>\n",
       "    <tr style=\"text-align: right;\">\n",
       "      <th></th>\n",
       "      <th>symbol</th>\n",
       "      <th>sector</th>\n",
       "      <th>industry</th>\n",
       "      <th>country</th>\n",
       "      <th>value_0</th>\n",
       "      <th>value_1</th>\n",
       "      <th>value_2</th>\n",
       "      <th>value_3</th>\n",
       "      <th>value_4</th>\n",
       "      <th>value_5</th>\n",
       "      <th>...</th>\n",
       "      <th>value_201</th>\n",
       "      <th>value_202</th>\n",
       "      <th>value_203</th>\n",
       "      <th>value_204</th>\n",
       "      <th>value_205</th>\n",
       "      <th>value_206</th>\n",
       "      <th>value_207</th>\n",
       "      <th>value_208</th>\n",
       "      <th>value_209</th>\n",
       "      <th>target</th>\n",
       "    </tr>\n",
       "  </thead>\n",
       "  <tbody>\n",
       "    <tr>\n",
       "      <th>0</th>\n",
       "      <td>X</td>\n",
       "      <td>Basic Materials</td>\n",
       "      <td>Steel</td>\n",
       "      <td>United States</td>\n",
       "      <td>47.450001</td>\n",
       "      <td>47.455002</td>\n",
       "      <td>47.779999</td>\n",
       "      <td>47.814999</td>\n",
       "      <td>47.785000</td>\n",
       "      <td>47.755001</td>\n",
       "      <td>...</td>\n",
       "      <td>40.994999</td>\n",
       "      <td>41.340000</td>\n",
       "      <td>41.330002</td>\n",
       "      <td>41.240002</td>\n",
       "      <td>41.209999</td>\n",
       "      <td>40.907600</td>\n",
       "      <td>40.930000</td>\n",
       "      <td>40.724998</td>\n",
       "      <td>40.830002</td>\n",
       "      <td>40.299999</td>\n",
       "    </tr>\n",
       "    <tr>\n",
       "      <th>1</th>\n",
       "      <td>X</td>\n",
       "      <td>Basic Materials</td>\n",
       "      <td>Steel</td>\n",
       "      <td>United States</td>\n",
       "      <td>47.455002</td>\n",
       "      <td>47.779999</td>\n",
       "      <td>47.814999</td>\n",
       "      <td>47.785000</td>\n",
       "      <td>47.755001</td>\n",
       "      <td>47.695000</td>\n",
       "      <td>...</td>\n",
       "      <td>41.340000</td>\n",
       "      <td>41.330002</td>\n",
       "      <td>41.240002</td>\n",
       "      <td>41.209999</td>\n",
       "      <td>40.907600</td>\n",
       "      <td>40.930000</td>\n",
       "      <td>40.724998</td>\n",
       "      <td>40.830002</td>\n",
       "      <td>40.450001</td>\n",
       "      <td>40.599998</td>\n",
       "    </tr>\n",
       "    <tr>\n",
       "      <th>2</th>\n",
       "      <td>X</td>\n",
       "      <td>Basic Materials</td>\n",
       "      <td>Steel</td>\n",
       "      <td>United States</td>\n",
       "      <td>47.779999</td>\n",
       "      <td>47.814999</td>\n",
       "      <td>47.785000</td>\n",
       "      <td>47.755001</td>\n",
       "      <td>47.695000</td>\n",
       "      <td>47.650002</td>\n",
       "      <td>...</td>\n",
       "      <td>41.330002</td>\n",
       "      <td>41.240002</td>\n",
       "      <td>41.209999</td>\n",
       "      <td>40.907600</td>\n",
       "      <td>40.930000</td>\n",
       "      <td>40.724998</td>\n",
       "      <td>40.830002</td>\n",
       "      <td>40.450001</td>\n",
       "      <td>40.520000</td>\n",
       "      <td>40.500000</td>\n",
       "    </tr>\n",
       "    <tr>\n",
       "      <th>3</th>\n",
       "      <td>X</td>\n",
       "      <td>Basic Materials</td>\n",
       "      <td>Steel</td>\n",
       "      <td>United States</td>\n",
       "      <td>47.814999</td>\n",
       "      <td>47.785000</td>\n",
       "      <td>47.755001</td>\n",
       "      <td>47.695000</td>\n",
       "      <td>47.650002</td>\n",
       "      <td>47.939999</td>\n",
       "      <td>...</td>\n",
       "      <td>41.240002</td>\n",
       "      <td>41.209999</td>\n",
       "      <td>40.907600</td>\n",
       "      <td>40.930000</td>\n",
       "      <td>40.724998</td>\n",
       "      <td>40.830002</td>\n",
       "      <td>40.450001</td>\n",
       "      <td>40.520000</td>\n",
       "      <td>40.380001</td>\n",
       "      <td>40.134998</td>\n",
       "    </tr>\n",
       "    <tr>\n",
       "      <th>4</th>\n",
       "      <td>X</td>\n",
       "      <td>Basic Materials</td>\n",
       "      <td>Steel</td>\n",
       "      <td>United States</td>\n",
       "      <td>47.785000</td>\n",
       "      <td>47.755001</td>\n",
       "      <td>47.695000</td>\n",
       "      <td>47.650002</td>\n",
       "      <td>47.939999</td>\n",
       "      <td>48.005001</td>\n",
       "      <td>...</td>\n",
       "      <td>41.209999</td>\n",
       "      <td>40.907600</td>\n",
       "      <td>40.930000</td>\n",
       "      <td>40.724998</td>\n",
       "      <td>40.830002</td>\n",
       "      <td>40.450001</td>\n",
       "      <td>40.520000</td>\n",
       "      <td>40.380001</td>\n",
       "      <td>40.340000</td>\n",
       "      <td>40.209999</td>\n",
       "    </tr>\n",
       "  </tbody>\n",
       "</table>\n",
       "<p>5 rows × 215 columns</p>\n",
       "</div>"
      ],
      "text/plain": [
       "  symbol           sector industry        country    value_0    value_1  \\\n",
       "0      X  Basic Materials    Steel  United States  47.450001  47.455002   \n",
       "1      X  Basic Materials    Steel  United States  47.455002  47.779999   \n",
       "2      X  Basic Materials    Steel  United States  47.779999  47.814999   \n",
       "3      X  Basic Materials    Steel  United States  47.814999  47.785000   \n",
       "4      X  Basic Materials    Steel  United States  47.785000  47.755001   \n",
       "\n",
       "     value_2    value_3    value_4    value_5  ...  value_201  value_202  \\\n",
       "0  47.779999  47.814999  47.785000  47.755001  ...  40.994999  41.340000   \n",
       "1  47.814999  47.785000  47.755001  47.695000  ...  41.340000  41.330002   \n",
       "2  47.785000  47.755001  47.695000  47.650002  ...  41.330002  41.240002   \n",
       "3  47.755001  47.695000  47.650002  47.939999  ...  41.240002  41.209999   \n",
       "4  47.695000  47.650002  47.939999  48.005001  ...  41.209999  40.907600   \n",
       "\n",
       "   value_203  value_204  value_205  value_206  value_207  value_208  \\\n",
       "0  41.330002  41.240002  41.209999  40.907600  40.930000  40.724998   \n",
       "1  41.240002  41.209999  40.907600  40.930000  40.724998  40.830002   \n",
       "2  41.209999  40.907600  40.930000  40.724998  40.830002  40.450001   \n",
       "3  40.907600  40.930000  40.724998  40.830002  40.450001  40.520000   \n",
       "4  40.930000  40.724998  40.830002  40.450001  40.520000  40.380001   \n",
       "\n",
       "   value_209     target  \n",
       "0  40.830002  40.299999  \n",
       "1  40.450001  40.599998  \n",
       "2  40.520000  40.500000  \n",
       "3  40.380001  40.134998  \n",
       "4  40.340000  40.209999  \n",
       "\n",
       "[5 rows x 215 columns]"
      ]
     },
     "execution_count": 11,
     "metadata": {},
     "output_type": "execute_result"
    }
   ],
   "source": [
    "df.head(5)"
   ]
  },
  {
   "cell_type": "markdown",
   "metadata": {},
   "source": [
    "## Target\n",
    "\n",
    "I will classify changes by more than `std / denominator` as 1 and -1, and the rest as 0. \\\n",
    "Denominator is chosen in such a way that the number of 1s and -1s is approximately equal to the number of 0s.\n"
   ]
  },
  {
   "cell_type": "code",
   "execution_count": 12,
   "metadata": {},
   "outputs": [
    {
     "data": {
      "text/plain": [
       "count    127410.000000\n",
       "mean          0.431984\n",
       "std           0.489741\n",
       "min           0.000000\n",
       "25%           0.129276\n",
       "50%           0.294078\n",
       "75%           0.568306\n",
       "max           9.862311\n",
       "dtype: float64"
      ]
     },
     "execution_count": 12,
     "metadata": {},
     "output_type": "execute_result"
    }
   ],
   "source": [
    "N_values = window_size\n",
    "\n",
    "def get_change_over_std(data_row):\n",
    "    \"\"\"Return the target value for a given row of data.\"\"\"\n",
    "    std = np.std([data_row[f'value_{i}'] for i in range(N_values)])\n",
    "    pre_last_price = data_row[f'value_{N_values-1}']\n",
    "    last_price = data_row[f'target']\n",
    "    return (last_price - pre_last_price) / std\n",
    "\n",
    "DENOMINATOR = 4\n",
    "def get_target(data_row):\n",
    "    \"\"\"Return the target value for a given row of data.\"\"\"\n",
    "    change_over_std = get_change_over_std(data_row)\n",
    "    \n",
    "    if abs(change_over_std) * DENOMINATOR < 1:\n",
    "        return 0\n",
    "    return 1 if change_over_std > 0 else -1\n",
    "\n",
    "# df['target_class'] = df.apply(get_target, axis=1)\n",
    "df.apply(get_change_over_std, axis=1).apply(abs).describe()"
   ]
  },
  {
   "cell_type": "code",
   "execution_count": 13,
   "metadata": {},
   "outputs": [],
   "source": [
    "df['target_class'] = df.apply(get_target, axis=1)"
   ]
  },
  {
   "cell_type": "code",
   "execution_count": 14,
   "metadata": {},
   "outputs": [
    {
     "data": {
      "text/plain": [
       "target_class\n",
       " 0    56380\n",
       " 1    38230\n",
       "-1    32800\n",
       "Name: count, dtype: int64"
      ]
     },
     "execution_count": 14,
     "metadata": {},
     "output_type": "execute_result"
    }
   ],
   "source": [
    "df.target_class.value_counts()"
   ]
  },
  {
   "cell_type": "markdown",
   "metadata": {},
   "source": [
    "## Additional preprocessing\n",
    "\n",
    "Before moving to clustering and adding time-series based features, I will preprocess the data a bit:\n",
    "\n",
    "* OHE to `sector`, `industry`, `country` columns\n",
    "* Split the data into train and test (test = 0.1)\n",
    "Motivation: I want in test to be samples from the assets model has never seen before.\n",
    "* Scale the data\n"
   ]
  },
  {
   "cell_type": "markdown",
   "metadata": {},
   "source": [
    "#### Splitting the data"
   ]
  },
  {
   "cell_type": "code",
   "execution_count": 15,
   "metadata": {},
   "outputs": [],
   "source": [
    "from sklearn.model_selection import train_test_split\n",
    "\n",
    "test_split = 0.15\n",
    "\n",
    "df_train, df_test = train_test_split(df, test_size=test_split, random_state=42)"
   ]
  },
  {
   "cell_type": "code",
   "execution_count": 16,
   "metadata": {},
   "outputs": [],
   "source": [
    "from sklearn.preprocessing import StandardScaler, OneHotEncoder"
   ]
  },
  {
   "cell_type": "markdown",
   "metadata": {},
   "source": [
    "#### OHE"
   ]
  },
  {
   "cell_type": "code",
   "execution_count": 17,
   "metadata": {},
   "outputs": [
    {
     "name": "stdout",
     "output_type": "stream",
     "text": [
      "sector 11\n",
      "industry 89\n",
      "country 19\n"
     ]
    }
   ],
   "source": [
    "ohe_cols = ['sector', 'industry', 'country']\n",
    "\n",
    "# count values\n",
    "for col in ohe_cols:\n",
    "    print(col, df_train[col].nunique())"
   ]
  },
  {
   "cell_type": "code",
   "execution_count": 18,
   "metadata": {},
   "outputs": [
    {
     "data": {
      "text/plain": [
       "industry\n",
       "Asset Management                    12029\n",
       "Oil & Gas Equipment & Services       3944\n",
       "Banks - Regional                     3282\n",
       "Oil & Gas Midstream                  3204\n",
       "REIT - Retail                        2864\n",
       "                                    ...  \n",
       "Telecom Services                      540\n",
       "Other Industrial Metals & Mining      539\n",
       "Industrial Distribution               388\n",
       "Mortgage Finance                      355\n",
       "Pharmaceutical Retailers              241\n",
       "Name: count, Length: 89, dtype: int64"
      ]
     },
     "execution_count": 18,
     "metadata": {},
     "output_type": "execute_result"
    }
   ],
   "source": [
    "df_train['industry'].value_counts()"
   ]
  },
  {
   "cell_type": "code",
   "execution_count": 19,
   "metadata": {},
   "outputs": [
    {
     "name": "stdout",
     "output_type": "stream",
     "text": [
      "Amount of small industries: 44\n"
     ]
    }
   ],
   "source": [
    "industry_size = df_train.groupby('industry').size().sort_values(ascending=False)\n",
    "small_industries = industry_size[industry_size < 850].index\n",
    "print(\"Amount of small industries:\", len(small_industries))\n",
    "\n",
    "df_train.loc[df_train.industry.isin(small_industries), 'industry'] = \"default_industry\"\n",
    "df_test.loc[df_test.industry.isin(small_industries), 'industry'] = \"default_industry\""
   ]
  },
  {
   "cell_type": "code",
   "execution_count": 20,
   "metadata": {},
   "outputs": [],
   "source": [
    "ohe_encoder = OneHotEncoder(handle_unknown='ignore', sparse_output=False)\n",
    "ohe_encoder.fit(df_train[ohe_cols])\n",
    "\n",
    "df_train_ohe = pd.DataFrame(ohe_encoder.transform(df_train[ohe_cols]), columns=ohe_encoder.get_feature_names_out(ohe_cols))\n",
    "df_test_ohe = pd.DataFrame(ohe_encoder.transform(df_test[ohe_cols]), columns=ohe_encoder.get_feature_names_out(ohe_cols))"
   ]
  },
  {
   "cell_type": "code",
   "execution_count": 21,
   "metadata": {},
   "outputs": [
    {
     "data": {
      "text/plain": [
       "(108298, 76)"
      ]
     },
     "execution_count": 21,
     "metadata": {},
     "output_type": "execute_result"
    }
   ],
   "source": [
    "df_train_ohe.shape"
   ]
  },
  {
   "cell_type": "code",
   "execution_count": 22,
   "metadata": {},
   "outputs": [
    {
     "data": {
      "text/html": [
       "<div>\n",
       "<style scoped>\n",
       "    .dataframe tbody tr th:only-of-type {\n",
       "        vertical-align: middle;\n",
       "    }\n",
       "\n",
       "    .dataframe tbody tr th {\n",
       "        vertical-align: top;\n",
       "    }\n",
       "\n",
       "    .dataframe thead th {\n",
       "        text-align: right;\n",
       "    }\n",
       "</style>\n",
       "<table border=\"1\" class=\"dataframe\">\n",
       "  <thead>\n",
       "    <tr style=\"text-align: right;\">\n",
       "      <th></th>\n",
       "      <th>sector_Basic Materials</th>\n",
       "      <th>sector_Communication Services</th>\n",
       "      <th>sector_Consumer Cyclical</th>\n",
       "      <th>sector_Consumer Defensive</th>\n",
       "      <th>sector_Energy</th>\n",
       "      <th>sector_Financial Services</th>\n",
       "      <th>sector_Healthcare</th>\n",
       "      <th>sector_Industrials</th>\n",
       "      <th>sector_Real Estate</th>\n",
       "      <th>sector_Technology</th>\n",
       "      <th>...</th>\n",
       "      <th>country_India</th>\n",
       "      <th>country_Ireland</th>\n",
       "      <th>country_Israel</th>\n",
       "      <th>country_Japan</th>\n",
       "      <th>country_Luxembourg</th>\n",
       "      <th>country_Netherlands</th>\n",
       "      <th>country_Philippines</th>\n",
       "      <th>country_South Korea</th>\n",
       "      <th>country_United Kingdom</th>\n",
       "      <th>country_United States</th>\n",
       "    </tr>\n",
       "  </thead>\n",
       "  <tbody>\n",
       "    <tr>\n",
       "      <th>0</th>\n",
       "      <td>0.0</td>\n",
       "      <td>0.0</td>\n",
       "      <td>0.0</td>\n",
       "      <td>0.0</td>\n",
       "      <td>0.0</td>\n",
       "      <td>1.0</td>\n",
       "      <td>0.0</td>\n",
       "      <td>0.0</td>\n",
       "      <td>0.0</td>\n",
       "      <td>0.0</td>\n",
       "      <td>...</td>\n",
       "      <td>0.0</td>\n",
       "      <td>0.0</td>\n",
       "      <td>0.0</td>\n",
       "      <td>0.0</td>\n",
       "      <td>0.0</td>\n",
       "      <td>0.0</td>\n",
       "      <td>0.0</td>\n",
       "      <td>0.0</td>\n",
       "      <td>0.0</td>\n",
       "      <td>0.0</td>\n",
       "    </tr>\n",
       "    <tr>\n",
       "      <th>1</th>\n",
       "      <td>0.0</td>\n",
       "      <td>0.0</td>\n",
       "      <td>0.0</td>\n",
       "      <td>0.0</td>\n",
       "      <td>0.0</td>\n",
       "      <td>0.0</td>\n",
       "      <td>0.0</td>\n",
       "      <td>1.0</td>\n",
       "      <td>0.0</td>\n",
       "      <td>0.0</td>\n",
       "      <td>...</td>\n",
       "      <td>0.0</td>\n",
       "      <td>0.0</td>\n",
       "      <td>0.0</td>\n",
       "      <td>0.0</td>\n",
       "      <td>0.0</td>\n",
       "      <td>0.0</td>\n",
       "      <td>0.0</td>\n",
       "      <td>0.0</td>\n",
       "      <td>0.0</td>\n",
       "      <td>1.0</td>\n",
       "    </tr>\n",
       "  </tbody>\n",
       "</table>\n",
       "<p>2 rows × 76 columns</p>\n",
       "</div>"
      ],
      "text/plain": [
       "   sector_Basic Materials  sector_Communication Services  \\\n",
       "0                     0.0                            0.0   \n",
       "1                     0.0                            0.0   \n",
       "\n",
       "   sector_Consumer Cyclical  sector_Consumer Defensive  sector_Energy  \\\n",
       "0                       0.0                        0.0            0.0   \n",
       "1                       0.0                        0.0            0.0   \n",
       "\n",
       "   sector_Financial Services  sector_Healthcare  sector_Industrials  \\\n",
       "0                        1.0                0.0                 0.0   \n",
       "1                        0.0                0.0                 1.0   \n",
       "\n",
       "   sector_Real Estate  sector_Technology  ...  country_India  country_Ireland  \\\n",
       "0                 0.0                0.0  ...            0.0              0.0   \n",
       "1                 0.0                0.0  ...            0.0              0.0   \n",
       "\n",
       "   country_Israel  country_Japan  country_Luxembourg  country_Netherlands  \\\n",
       "0             0.0            0.0                 0.0                  0.0   \n",
       "1             0.0            0.0                 0.0                  0.0   \n",
       "\n",
       "   country_Philippines  country_South Korea  country_United Kingdom  \\\n",
       "0                  0.0                  0.0                     0.0   \n",
       "1                  0.0                  0.0                     0.0   \n",
       "\n",
       "   country_United States  \n",
       "0                    0.0  \n",
       "1                    1.0  \n",
       "\n",
       "[2 rows x 76 columns]"
      ]
     },
     "execution_count": 22,
     "metadata": {},
     "output_type": "execute_result"
    }
   ],
   "source": [
    "df_train_ohe.head(2)"
   ]
  },
  {
   "cell_type": "markdown",
   "metadata": {},
   "source": [
    "#### Scaling"
   ]
  },
  {
   "cell_type": "code",
   "execution_count": 24,
   "metadata": {},
   "outputs": [
    {
     "name": "stderr",
     "output_type": "stream",
     "text": [
      "c:\\Users\\rodio\\Desktop\\Programming\\ML\\market_forecasting\\.venv\\Lib\\site-packages\\tslearn\\bases\\bases.py:15: UserWarning: h5py not installed, hdf5 features will not be supported.\n",
      "Install h5py to use hdf5 features: http://docs.h5py.org/\n",
      "  warn(h5py_msg)\n"
     ]
    }
   ],
   "source": [
    "from tslearn.preprocessing import TimeSeriesScalerMeanVariance\n",
    "\n",
    "scale_cols = [f'value_{i}' for i in range(N_values)]\n",
    "\n",
    "X_train = df_train[scale_cols].values\n",
    "X_test = df_test[scale_cols].values\n",
    "\n",
    "# scale along with axis=1\n",
    "scaler = TimeSeriesScalerMeanVariance(mu=0., std=1.)\n",
    "X_train_scaled = scaler.fit_transform(X_train)\n",
    "X_test_scaled = scaler.transform(X_test)"
   ]
  },
  {
   "cell_type": "code",
   "execution_count": 34,
   "metadata": {},
   "outputs": [],
   "source": [
    "random_row = np.random.randint(0, len(X_train))\n",
    "n_checks = 25\n",
    "for i in range(n_checks):\n",
    "    random_row = np.random.randint(0, len(X_train))\n",
    "    assert np.isclose(X_train_scaled[random_row].mean(), 0, atol=1e-5), 'Mean of the time series is not close to 0!'\n",
    "\n",
    "    random_row = np.random.randint(0, len(X_test_scaled))\n",
    "    assert np.isclose(X_test_scaled[random_row].mean(), 0, atol=1e-5), 'Mean of the time series is not close to 0!'"
   ]
  },
  {
   "cell_type": "code",
   "execution_count": 36,
   "metadata": {},
   "outputs": [],
   "source": [
    "df_train[scale_cols] = X_train_scaled.reshape(-1, N_values)\n",
    "df_test[scale_cols] = X_test_scaled.reshape(-1, N_values)"
   ]
  },
  {
   "cell_type": "markdown",
   "metadata": {},
   "source": [
    "#### Final dataset"
   ]
  },
  {
   "cell_type": "code",
   "execution_count": 37,
   "metadata": {},
   "outputs": [
    {
     "data": {
      "text/html": [
       "<div>\n",
       "<style scoped>\n",
       "    .dataframe tbody tr th:only-of-type {\n",
       "        vertical-align: middle;\n",
       "    }\n",
       "\n",
       "    .dataframe tbody tr th {\n",
       "        vertical-align: top;\n",
       "    }\n",
       "\n",
       "    .dataframe thead th {\n",
       "        text-align: right;\n",
       "    }\n",
       "</style>\n",
       "<table border=\"1\" class=\"dataframe\">\n",
       "  <thead>\n",
       "    <tr style=\"text-align: right;\">\n",
       "      <th></th>\n",
       "      <th>symbol</th>\n",
       "      <th>sector</th>\n",
       "      <th>industry</th>\n",
       "      <th>country</th>\n",
       "      <th>value_0</th>\n",
       "      <th>value_1</th>\n",
       "      <th>value_2</th>\n",
       "      <th>value_3</th>\n",
       "      <th>value_4</th>\n",
       "      <th>value_5</th>\n",
       "      <th>...</th>\n",
       "      <th>value_202</th>\n",
       "      <th>value_203</th>\n",
       "      <th>value_204</th>\n",
       "      <th>value_205</th>\n",
       "      <th>value_206</th>\n",
       "      <th>value_207</th>\n",
       "      <th>value_208</th>\n",
       "      <th>value_209</th>\n",
       "      <th>target</th>\n",
       "      <th>target_class</th>\n",
       "    </tr>\n",
       "  </thead>\n",
       "  <tbody>\n",
       "    <tr>\n",
       "      <th>10029</th>\n",
       "      <td>XYF</td>\n",
       "      <td>Financial Services</td>\n",
       "      <td>Credit Services</td>\n",
       "      <td>China</td>\n",
       "      <td>0.298922</td>\n",
       "      <td>0.433164</td>\n",
       "      <td>0.282143</td>\n",
       "      <td>0.500285</td>\n",
       "      <td>0.500285</td>\n",
       "      <td>0.600968</td>\n",
       "      <td>...</td>\n",
       "      <td>-0.540092</td>\n",
       "      <td>-0.573652</td>\n",
       "      <td>-0.808577</td>\n",
       "      <td>-0.238382</td>\n",
       "      <td>-0.875698</td>\n",
       "      <td>-0.851534</td>\n",
       "      <td>-0.842137</td>\n",
       "      <td>-1.043500</td>\n",
       "      <td>3.955</td>\n",
       "      <td>1</td>\n",
       "    </tr>\n",
       "    <tr>\n",
       "      <th>28260</th>\n",
       "      <td>TWI</td>\n",
       "      <td>Industrials</td>\n",
       "      <td>Farm &amp; Heavy Construction Machinery</td>\n",
       "      <td>United States</td>\n",
       "      <td>1.345733</td>\n",
       "      <td>1.391228</td>\n",
       "      <td>1.095743</td>\n",
       "      <td>0.947659</td>\n",
       "      <td>0.868045</td>\n",
       "      <td>0.924912</td>\n",
       "      <td>...</td>\n",
       "      <td>1.550457</td>\n",
       "      <td>1.504964</td>\n",
       "      <td>1.595952</td>\n",
       "      <td>1.857543</td>\n",
       "      <td>1.903036</td>\n",
       "      <td>1.823421</td>\n",
       "      <td>1.891664</td>\n",
       "      <td>1.857543</td>\n",
       "      <td>8.480</td>\n",
       "      <td>1</td>\n",
       "    </tr>\n",
       "  </tbody>\n",
       "</table>\n",
       "<p>2 rows × 216 columns</p>\n",
       "</div>"
      ],
      "text/plain": [
       "      symbol              sector                             industry  \\\n",
       "10029    XYF  Financial Services                      Credit Services   \n",
       "28260    TWI         Industrials  Farm & Heavy Construction Machinery   \n",
       "\n",
       "             country   value_0   value_1   value_2   value_3   value_4  \\\n",
       "10029          China  0.298922  0.433164  0.282143  0.500285  0.500285   \n",
       "28260  United States  1.345733  1.391228  1.095743  0.947659  0.868045   \n",
       "\n",
       "        value_5  ...  value_202  value_203  value_204  value_205  value_206  \\\n",
       "10029  0.600968  ...  -0.540092  -0.573652  -0.808577  -0.238382  -0.875698   \n",
       "28260  0.924912  ...   1.550457   1.504964   1.595952   1.857543   1.903036   \n",
       "\n",
       "       value_207  value_208  value_209  target  target_class  \n",
       "10029  -0.851534  -0.842137  -1.043500   3.955             1  \n",
       "28260   1.823421   1.891664   1.857543   8.480             1  \n",
       "\n",
       "[2 rows x 216 columns]"
      ]
     },
     "execution_count": 37,
     "metadata": {},
     "output_type": "execute_result"
    }
   ],
   "source": [
    "df_train.head(2)"
   ]
  },
  {
   "cell_type": "code",
   "execution_count": 38,
   "metadata": {},
   "outputs": [],
   "source": [
    "drop_cols = ohe_cols + ['symbol', 'target']\n",
    "target_col = 'target_class'\n",
    "\n",
    "y_train = df_train[target_col]\n",
    "y_test = df_test[target_col]\n",
    "\n",
    "X_train = df_train.drop(columns=drop_cols + [target_col])\n",
    "X_test = df_test.drop(columns=drop_cols + [target_col])\n",
    "\n",
    "X_simple_features_train = df_train_ohe\n",
    "X_simple_features_test = df_test_ohe"
   ]
  },
  {
   "cell_type": "code",
   "execution_count": 39,
   "metadata": {},
   "outputs": [
    {
     "name": "stdout",
     "output_type": "stream",
     "text": [
      "(108298, 210) (19112, 210)\n"
     ]
    }
   ],
   "source": [
    "print(X_train.shape, X_test.shape)"
   ]
  },
  {
   "cell_type": "code",
   "execution_count": 40,
   "metadata": {},
   "outputs": [],
   "source": [
    "# save\n",
    "import os\n",
    "\n",
    "X_train.to_csv(os.path.join(data_dir, 'X_train.csv'), index=False)\n",
    "X_test.to_csv(os.path.join(data_dir, 'X_test.csv'), index=False)\n",
    "\n",
    "X_simple_features_train.to_csv(os.path.join(data_dir, 'X_simple_features_train.csv'), index=False)\n",
    "X_simple_features_test.to_csv(os.path.join(data_dir, 'X_simple_features_test.csv'), index=False)\n",
    "\n",
    "y_train.to_csv(os.path.join(data_dir, 'y_train.csv'), index=False)\n",
    "y_test.to_csv(os.path.join(data_dir, 'y_test.csv'), index=False)"
   ]
  }
 ],
 "metadata": {
  "kernelspec": {
   "display_name": ".venv",
   "language": "python",
   "name": "python3"
  },
  "language_info": {
   "codemirror_mode": {
    "name": "ipython",
    "version": 3
   },
   "file_extension": ".py",
   "mimetype": "text/x-python",
   "name": "python",
   "nbconvert_exporter": "python",
   "pygments_lexer": "ipython3",
   "version": "3.11.6"
  }
 },
 "nbformat": 4,
 "nbformat_minor": 2
}
