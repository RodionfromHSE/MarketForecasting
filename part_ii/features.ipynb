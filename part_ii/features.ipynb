{
 "cells": [
  {
   "cell_type": "code",
   "execution_count": 50,
   "metadata": {},
   "outputs": [
    {
     "name": "stdout",
     "output_type": "stream",
     "text": [
      "The autoreload extension is already loaded. To reload it, use:\n",
      "  %reload_ext autoreload\n"
     ]
    }
   ],
   "source": [
    "%load_ext autoreload\n",
    "%autoreload 2"
   ]
  },
  {
   "cell_type": "markdown",
   "metadata": {},
   "source": [
    "#### Prediction framework\n",
    "\n",
    "offset: 200 (0.1 sec), window: 1000 (0.5 sec)\n",
    "\n",
    "Based on `window` lobs of data, we predict the next `offset` lobs of data. For example, for `data[:1000]`, we predict `data[1200]`\n",
    "\n",
    "\n",
    "Target:\n",
    "\n",
    "Out target is a movement by `std / 2` (denominator is used for balancing the classes):\n",
    "\n",
    "Classes:\n",
    "```\n",
    "-1    359966\n",
    " 0    338596\n",
    " 1    337128\n",
    "```"
   ]
  },
  {
   "cell_type": "markdown",
   "metadata": {},
   "source": [
    "#### Features\n",
    "\n",
    "> As features, I took top 5 from all the features' selection methods\n",
    "\n",
    "**1 Autocorrelation**\n",
    "\n",
    "Lag: 50ms (100 lobs) & 100ms (200 lobs) (since we predict 100ms ahead)\n",
    "\n",
    "New columns: `mid_price`\n",
    "\n",
    "**2 Donchian Channels**\n",
    "\n",
    "Period: 50ms (100 lobs) & 100ms (200 lobs)\n",
    "\n",
    "Calculation:\n",
    "* Highest high; Lowest low; (Highest high + Lowest low) / 2\n",
    "* In `period` lobs\n",
    "\n",
    "New columns: `high`, `low`\n",
    "\n",
    "**3 Highest High**\n",
    "\n",
    "**4 Center of Gravity Oscillator (COG)**\n",
    "\n",
    "Calculation:\n",
    "$\\frac{M + r * M_{-k}}{M + M_{-k}}$\n",
    "\n",
    "Where:\n",
    "* $M$ - current price\n",
    "* $M_{-k}$ - price `k` lobs ago\n",
    "* $r$ - weight\n",
    "\n",
    "Computed for `k = [25, 50, 100, 250, 500]` lobs \\\n",
    "With weights: `r = [0.5, 0.25, 0.1, 0.05, 0.01]`\n",
    "\n",
    "**5 Heikin-Ashi**\n",
    "\n",
    "Open, Close, High, Low calculation:\n",
    "1. Sort lobs and trades by time\n",
    "2. For each lob make a list of trades done before it but after the previous lob\n",
    "3. Calculate Open, Close, High, Low for each lob\n",
    "\n",
    "```\n",
    "HeikinClose = (Ot + Ht + Lt + CLt)/4\n",
    "HeikinOpen = (Ot−1 + CLt−1)/2\n",
    "HeikinHigh = max(Ht, Ot−1, CLt−1)\n",
    "HeikinLow = min(Lt, Ot−1, CLt−1)\n",
    "```\n",
    "\n",
    "New columns: `open`, `close`\n",
    "\n",
    "**1 Logistic Regression—Local Spatial Ratio**\n",
    "\n",
    "See `Logistic Regression Features` section\n",
    "\n",
    "**2 Best LOB Level—Bid Side Volume**\n",
    "\n",
    "The total volume of buy orders at the best bid price\n",
    "\n",
    "**3 Second Best LOB Level—Ask Volume**\n",
    "\n",
    "Obvious\n",
    "\n",
    "**4 Price and Volume Derivation**\n",
    "\n",
    "Price -- mid price of 3 best asks and bids \\\n",
    "Volume -- volume of the 3 best bid and ask levels\n",
    "\n",
    "The feature is computed as an average difference over the last `window` lobs\n",
    "\n",
    "**5 Best LOB Level—Ask Side**\n",
    "\n",
    "Obvious\n",
    "\n",
    "**1 Logistic Regression—Spatial Ratio**\n",
    "\n",
    "See `Logistic Regression Features` section\n",
    "\n",
    "**2 Cointegration—Boolean Vector**\n",
    "\n",
    "Split `window` lobs into `window / 10` intervals \\\n",
    "Check for cointegration of each interval with the last one (i.e. `i` and `9` for `i` in `[0, 9]`) \\\n",
    "If cointegration is found, set the corresponding bit in the vector to `1`\n",
    "\n",
    "**3 Cointegration—Test Statistics**\n",
    "\n",
    "Numerical values of cointegration test statistics. Computed as in `Cointegration—Boolean Vector` feature\n",
    "\n",
    "**4 Price and Volume Means**\n",
    "\n",
    "Average price and average volume of the best 5 bid and ask levels\n",
    "\n",
    "**5 Average Type Intensity**\n",
    "\n",
    "Frequency (in Hz) of `buy` and `sell` trades over the window\n",
    "\n",
    "**1 Logistic Regression—Spatial Ratio**\n",
    "\n",
    "See `Logistic Regression Features` section\n",
    "\n",
    "**2 Second Best LOB Level—Ask Volume**\n",
    "\n",
    "Obvious\n",
    "\n",
    "**3 Price & Volume derivation**\n",
    "\n",
    "Already described\n",
    "\n",
    "**4 Spread & Mid-Price**\n",
    "\n",
    "Features:\n",
    "* Last spread and mid-price\n",
    "* Average spread and mid-price over the window\n",
    "\n",
    "**5 Partial Autocorrelation for Log Returns**\n",
    "\n",
    "* Compute log returns\n",
    "* Compute partial autocorrelation over them with lag 100 lobs (50ms) and 200 lobs (100ms)\n",
    "\n",
    "**1 Logistic Regression—Probability Estimation**\n",
    "\n",
    "See `Logistic Regression Features` section\n",
    "\n",
    "**2 Logistic Regression—Spatial Ratio**\n",
    "\n",
    "See `Logistic Regression Features` section\n",
    "\n",
    "**3 Bollinger Bands**\n",
    "\n",
    "mu -- average of closing prices over the window \\\n",
    "sigma -- standard deviation of closing prices over the window\n",
    "\n",
    "3 features: $$\\mu \\pm 2\\sigma, \\mu$$\n",
    "\n",
    "**4 Alligator Teeth**\n",
    "\n",
    "To be honest, this feature doesn't make any sense to me, so I'll skip it.\n",
    "\n",
    "**5 Cointegration—Test Statistics**\n",
    "\n",
    "Already described\n",
    "\n",
    "**LogReg Features**\n",
    "\n",
    "Idea: LogReg which takes into account last `k` lobs (e.g. `k = 10`) and takes from each lob the volume of the `r` best bid and ask levels (e.g. `r = 5`). Then, the model is trained on the `k * r * 2` features to predict the price movement (movement by `std / 2` or not; i.e. 2 classes). The model is trained on the last `window` lobs.\n",
    "\n",
    "Local Spatial Ratio; Spatial Ratio; Probability Estimation\n",
    "\n",
    "* Probability Estimation is just the output of the model on the last lobs\n",
    "* (Local) Spatial Ratio is the ratio of bid coefficients to ask coefficients\n",
    "    * Important: I didn't really find any good source of information (ChatGPT, Google)\n",
    "\n",
    "Another idea: Train a LogReg model to predict movement over the whole window \\\n",
    "Here, use only probability estimation as a feature"
   ]
  },
  {
   "cell_type": "markdown",
   "metadata": {},
   "source": [
    "#### Columns required for the features\n",
    "\n",
    "1. Autocorrelation\n",
    "    * mid_price\n",
    "2. Donchian Channels\n"
   ]
  },
  {
   "cell_type": "code",
   "execution_count": 1,
   "metadata": {},
   "outputs": [],
   "source": [
    "import os\n",
    "\n",
    "root_dir = os.path.abspath('..')\n",
    "data_dir = os.path.join(root_dir, 'MD_data')\n",
    "\n",
    "lob_path = os.path.join(data_dir, 'lob.csv')\n",
    "trades_path = os.path.join(data_dir, 'trades.csv')"
   ]
  },
  {
   "cell_type": "code",
   "execution_count": 2,
   "metadata": {},
   "outputs": [],
   "source": [
    "import pandas as pd\n",
    "\n",
    "lob = pd.read_csv(lob_path)\n",
    "trades = pd.read_csv(trades_path)"
   ]
  },
  {
   "cell_type": "markdown",
   "metadata": {},
   "source": [
    "#### Data Analysis"
   ]
  },
  {
   "cell_type": "code",
   "execution_count": 3,
   "metadata": {},
   "outputs": [
    {
     "data": {
      "text/html": [
       "<div>\n",
       "<style scoped>\n",
       "    .dataframe tbody tr th:only-of-type {\n",
       "        vertical-align: middle;\n",
       "    }\n",
       "\n",
       "    .dataframe tbody tr th {\n",
       "        vertical-align: top;\n",
       "    }\n",
       "\n",
       "    .dataframe thead th {\n",
       "        text-align: right;\n",
       "    }\n",
       "</style>\n",
       "<table border=\"1\" class=\"dataframe\">\n",
       "  <thead>\n",
       "    <tr style=\"text-align: right;\">\n",
       "      <th></th>\n",
       "      <th>Unnamed: 0</th>\n",
       "      <th>local_timestamp</th>\n",
       "      <th>asks[0].price</th>\n",
       "      <th>asks[0].amount</th>\n",
       "      <th>bids[0].price</th>\n",
       "      <th>bids[0].amount</th>\n",
       "      <th>asks[1].price</th>\n",
       "      <th>asks[1].amount</th>\n",
       "      <th>bids[1].price</th>\n",
       "      <th>bids[1].amount</th>\n",
       "      <th>...</th>\n",
       "      <th>bids[22].price</th>\n",
       "      <th>bids[22].amount</th>\n",
       "      <th>asks[23].price</th>\n",
       "      <th>asks[23].amount</th>\n",
       "      <th>bids[23].price</th>\n",
       "      <th>bids[23].amount</th>\n",
       "      <th>asks[24].price</th>\n",
       "      <th>asks[24].amount</th>\n",
       "      <th>bids[24].price</th>\n",
       "      <th>bids[24].amount</th>\n",
       "    </tr>\n",
       "  </thead>\n",
       "  <tbody>\n",
       "    <tr>\n",
       "      <th>0</th>\n",
       "      <td>0</td>\n",
       "      <td>1722470402038431</td>\n",
       "      <td>0.011044</td>\n",
       "      <td>121492.0</td>\n",
       "      <td>0.011043</td>\n",
       "      <td>103687.0</td>\n",
       "      <td>0.011044</td>\n",
       "      <td>4663.0</td>\n",
       "      <td>0.011043</td>\n",
       "      <td>36226.0</td>\n",
       "      <td>...</td>\n",
       "      <td>0.011040</td>\n",
       "      <td>147374.0</td>\n",
       "      <td>0.011047</td>\n",
       "      <td>666690.0</td>\n",
       "      <td>0.011040</td>\n",
       "      <td>69663.0</td>\n",
       "      <td>0.011047</td>\n",
       "      <td>1000463.0</td>\n",
       "      <td>0.011040</td>\n",
       "      <td>90028.0</td>\n",
       "    </tr>\n",
       "    <tr>\n",
       "      <th>1</th>\n",
       "      <td>1</td>\n",
       "      <td>1722470402305331</td>\n",
       "      <td>0.011044</td>\n",
       "      <td>121492.0</td>\n",
       "      <td>0.011043</td>\n",
       "      <td>100499.0</td>\n",
       "      <td>0.011044</td>\n",
       "      <td>4663.0</td>\n",
       "      <td>0.011043</td>\n",
       "      <td>36226.0</td>\n",
       "      <td>...</td>\n",
       "      <td>0.011040</td>\n",
       "      <td>147374.0</td>\n",
       "      <td>0.011047</td>\n",
       "      <td>666690.0</td>\n",
       "      <td>0.011040</td>\n",
       "      <td>69663.0</td>\n",
       "      <td>0.011047</td>\n",
       "      <td>1000463.0</td>\n",
       "      <td>0.011040</td>\n",
       "      <td>90028.0</td>\n",
       "    </tr>\n",
       "    <tr>\n",
       "      <th>2</th>\n",
       "      <td>2</td>\n",
       "      <td>1722470403485121</td>\n",
       "      <td>0.011041</td>\n",
       "      <td>60925.0</td>\n",
       "      <td>0.011041</td>\n",
       "      <td>747323.0</td>\n",
       "      <td>0.011041</td>\n",
       "      <td>59430.0</td>\n",
       "      <td>0.011040</td>\n",
       "      <td>337839.0</td>\n",
       "      <td>...</td>\n",
       "      <td>0.011038</td>\n",
       "      <td>27842.0</td>\n",
       "      <td>0.011045</td>\n",
       "      <td>173025.0</td>\n",
       "      <td>0.011038</td>\n",
       "      <td>77932.0</td>\n",
       "      <td>0.011045</td>\n",
       "      <td>162045.0</td>\n",
       "      <td>0.011038</td>\n",
       "      <td>2520.0</td>\n",
       "    </tr>\n",
       "  </tbody>\n",
       "</table>\n",
       "<p>3 rows × 102 columns</p>\n",
       "</div>"
      ],
      "text/plain": [
       "   Unnamed: 0   local_timestamp  asks[0].price  asks[0].amount  bids[0].price  \\\n",
       "0           0  1722470402038431       0.011044        121492.0       0.011043   \n",
       "1           1  1722470402305331       0.011044        121492.0       0.011043   \n",
       "2           2  1722470403485121       0.011041         60925.0       0.011041   \n",
       "\n",
       "   bids[0].amount  asks[1].price  asks[1].amount  bids[1].price  \\\n",
       "0        103687.0       0.011044          4663.0       0.011043   \n",
       "1        100499.0       0.011044          4663.0       0.011043   \n",
       "2        747323.0       0.011041         59430.0       0.011040   \n",
       "\n",
       "   bids[1].amount  ...  bids[22].price  bids[22].amount  asks[23].price  \\\n",
       "0         36226.0  ...        0.011040         147374.0        0.011047   \n",
       "1         36226.0  ...        0.011040         147374.0        0.011047   \n",
       "2        337839.0  ...        0.011038          27842.0        0.011045   \n",
       "\n",
       "   asks[23].amount  bids[23].price  bids[23].amount  asks[24].price  \\\n",
       "0         666690.0        0.011040          69663.0        0.011047   \n",
       "1         666690.0        0.011040          69663.0        0.011047   \n",
       "2         173025.0        0.011038          77932.0        0.011045   \n",
       "\n",
       "   asks[24].amount  bids[24].price  bids[24].amount  \n",
       "0        1000463.0        0.011040          90028.0  \n",
       "1        1000463.0        0.011040          90028.0  \n",
       "2         162045.0        0.011038           2520.0  \n",
       "\n",
       "[3 rows x 102 columns]"
      ]
     },
     "execution_count": 3,
     "metadata": {},
     "output_type": "execute_result"
    }
   ],
   "source": [
    "lob.head(3)"
   ]
  },
  {
   "cell_type": "code",
   "execution_count": 4,
   "metadata": {},
   "outputs": [
    {
     "data": {
      "text/html": [
       "<div>\n",
       "<style scoped>\n",
       "    .dataframe tbody tr th:only-of-type {\n",
       "        vertical-align: middle;\n",
       "    }\n",
       "\n",
       "    .dataframe tbody tr th {\n",
       "        vertical-align: top;\n",
       "    }\n",
       "\n",
       "    .dataframe thead th {\n",
       "        text-align: right;\n",
       "    }\n",
       "</style>\n",
       "<table border=\"1\" class=\"dataframe\">\n",
       "  <thead>\n",
       "    <tr style=\"text-align: right;\">\n",
       "      <th></th>\n",
       "      <th>Unnamed: 0</th>\n",
       "      <th>local_timestamp</th>\n",
       "      <th>side</th>\n",
       "      <th>price</th>\n",
       "      <th>amount</th>\n",
       "    </tr>\n",
       "  </thead>\n",
       "  <tbody>\n",
       "    <tr>\n",
       "      <th>0</th>\n",
       "      <td>0</td>\n",
       "      <td>1722470400014926</td>\n",
       "      <td>sell</td>\n",
       "      <td>0.011043</td>\n",
       "      <td>734</td>\n",
       "    </tr>\n",
       "    <tr>\n",
       "      <th>1</th>\n",
       "      <td>1</td>\n",
       "      <td>1722470402982045</td>\n",
       "      <td>sell</td>\n",
       "      <td>0.011043</td>\n",
       "      <td>1633</td>\n",
       "    </tr>\n",
       "    <tr>\n",
       "      <th>2</th>\n",
       "      <td>2</td>\n",
       "      <td>1722470402982047</td>\n",
       "      <td>sell</td>\n",
       "      <td>0.011043</td>\n",
       "      <td>25445</td>\n",
       "    </tr>\n",
       "  </tbody>\n",
       "</table>\n",
       "</div>"
      ],
      "text/plain": [
       "   Unnamed: 0   local_timestamp  side     price  amount\n",
       "0           0  1722470400014926  sell  0.011043     734\n",
       "1           1  1722470402982045  sell  0.011043    1633\n",
       "2           2  1722470402982047  sell  0.011043   25445"
      ]
     },
     "execution_count": 4,
     "metadata": {},
     "output_type": "execute_result"
    }
   ],
   "source": [
    "trades.head(3)"
   ]
  },
  {
   "cell_type": "code",
   "execution_count": 5,
   "metadata": {},
   "outputs": [
    {
     "name": "stdout",
     "output_type": "stream",
     "text": [
      "Start time:  1970-01-20 22:27:50.400014926\n",
      "End time:  1970-01-20 22:36:28.799849954\n",
      "Duration:  518.399835  seconds\n",
      "Rate: 43478.26 Hz\n"
     ]
    }
   ],
   "source": [
    "\n",
    "# format: 1722470400014926\n",
    "timestamp_series = pd.to_datetime(trades['local_timestamp'], unit='ns')\n",
    "timestamp_diff = timestamp_series.diff()\n",
    "print(\"Start time: \", timestamp_series.min())\n",
    "print(\"End time: \", timestamp_series.max())\n",
    "print(\"Duration: \", (timestamp_series.max() - timestamp_series.min()).total_seconds(), \" seconds\")\n",
    "\n",
    "rate = 1 / timestamp_diff.mean().total_seconds()\n",
    "\n",
    "print(f'Rate: {rate:.2f} Hz')"
   ]
  },
  {
   "cell_type": "markdown",
   "metadata": {},
   "source": [
    "I guess it'd be fine to predict 100ms in the future"
   ]
  },
  {
   "cell_type": "code",
   "execution_count": 6,
   "metadata": {},
   "outputs": [],
   "source": [
    "n_offset = rate / 10 # 100ms"
   ]
  },
  {
   "cell_type": "code",
   "execution_count": 7,
   "metadata": {},
   "outputs": [
    {
     "name": "stdout",
     "output_type": "stream",
     "text": [
      "Start time:  1970-01-20 22:27:50.402038431\n",
      "End time:  1970-01-20 22:36:28.799947411\n",
      "Duration:  518.397908  seconds\n",
      "Lob rate: 2000.00 Hz\n"
     ]
    }
   ],
   "source": [
    "# let's look at lob time stamps\n",
    "\n",
    "lob_timestamp = pd.to_datetime(lob['local_timestamp'], unit='ns')\n",
    "lob_timestamp_diff = lob_timestamp.diff()\n",
    "\n",
    "print(\"Start time: \", lob_timestamp.min())\n",
    "print(\"End time: \", lob_timestamp.max())\n",
    "print(\"Duration: \", (lob_timestamp.max() - lob_timestamp.min()).total_seconds(), \" seconds\")\n",
    "lob_rate =  1 / lob_timestamp_diff.mean().total_seconds()\n",
    "print(f'Lob rate: {lob_rate:.2f} Hz')"
   ]
  },
  {
   "cell_type": "code",
   "execution_count": 8,
   "metadata": {},
   "outputs": [
    {
     "name": "stdout",
     "output_type": "stream",
     "text": [
      "offset: 200, window: 1000\n"
     ]
    }
   ],
   "source": [
    "n_offset = int(lob_rate / 10) # 100ms\n",
    "n_window = int(lob_rate / 2) # 500ms\n",
    "print(f'offset: {n_offset}, window: {n_window}')"
   ]
  },
  {
   "cell_type": "code",
   "execution_count": 9,
   "metadata": {},
   "outputs": [
    {
     "data": {
      "text/plain": [
       "0    NaN\n",
       "1    1.0\n",
       "2    2.0\n",
       "3    3.0\n",
       "4    4.0\n",
       "dtype: float64"
      ]
     },
     "execution_count": 9,
     "metadata": {},
     "output_type": "execute_result"
    }
   ],
   "source": [
    "# shift demonstration\n",
    "series = pd.Series([1, 2, 3, 4, 5])\n",
    "series.shift(1)"
   ]
  },
  {
   "cell_type": "code",
   "execution_count": 10,
   "metadata": {},
   "outputs": [
    {
     "data": {
      "text/plain": [
       "0    NaN\n",
       "1    NaN\n",
       "2    2.0\n",
       "3    3.0\n",
       "4    4.0\n",
       "dtype: float64"
      ]
     },
     "execution_count": 10,
     "metadata": {},
     "output_type": "execute_result"
    }
   ],
   "source": [
    "# rolling demonstration with mean\n",
    "series.rolling(window=3).mean()"
   ]
  },
  {
   "cell_type": "code",
   "execution_count": 64,
   "metadata": {},
   "outputs": [
    {
     "data": {
      "text/plain": [
       "0    1.0\n",
       "1    1.0\n",
       "2    1.0\n",
       "3    NaN\n",
       "4    NaN\n",
       "dtype: float64"
      ]
     },
     "execution_count": 64,
     "metadata": {},
     "output_type": "execute_result"
    }
   ],
   "source": [
    "series = pd.Series([1, 2, 3, 4, 5])\n",
    "\n",
    "series.shift(-2) - series.shift(-1)"
   ]
  },
  {
   "cell_type": "code",
   "execution_count": 92,
   "metadata": {},
   "outputs": [],
   "source": [
    "def get_std_and_target_diff(series, n_offset, n_window):\n",
    "    std = series.shift(n_offset).rolling(window=n_window).std()\n",
    "    target_diff = series.shift(-n_window + 1) - series.shift(-(n_offset + n_window - 1))\n",
    "    std, target_diff = std.dropna(), target_diff.dropna()\n",
    "    assert len(std) == len(target_diff), f'{len(std)} != {len(target_diff)}'\n",
    "    std = std.reset_index(drop=True)\n",
    "    target_diff = target_diff.reset_index(drop=True)\n",
    "    return std, target_diff\n",
    "\n",
    "def get_target_array(std, target_diff, std_denom):\n",
    "    target_array = target_diff / std * std_denom\n",
    "    target_array = target_array.apply(lambda x: -1 if x < -1 else 1 if x > 1 else 0)\n",
    "    return target_array\n",
    "\n",
    "mid_price = (lob['bids[0].price'] + lob['asks[0].price']) / 2"
   ]
  },
  {
   "cell_type": "code",
   "execution_count": 91,
   "metadata": {},
   "outputs": [
    {
     "name": "stdout",
     "output_type": "stream",
     "text": [
      "Std: (1035491,), target_diff: (1035491,)\n",
      "Target array: (1035491,)\n"
     ]
    },
    {
     "data": {
      "text/plain": [
       " 1    354266\n",
       " 0    350964\n",
       "-1    330261\n",
       "Name: count, dtype: int64"
      ]
     },
     "execution_count": 91,
     "metadata": {},
     "output_type": "execute_result"
    }
   ],
   "source": [
    "\n",
    "\n",
    "std_denom = 2\n",
    "lob_target_array = get_target_array(lob_std, lob_target_diff, std_denom)\n",
    "# show balance\n",
    "lob_target_array.value_counts()"
   ]
  },
  {
   "cell_type": "markdown",
   "metadata": {},
   "source": [
    "#### Data Split\n",
    "\n",
    "Since I don't have enough time to submit the whole solution I'll take `n=45000` lobs for training and `n=5000` for testing. "
   ]
  },
  {
   "cell_type": "code",
   "execution_count": 45,
   "metadata": {},
   "outputs": [],
   "source": [
    "train_range = range(0, 45000)\n",
    "test_range = range(45000, 50000)\n",
    "\n",
    "def prepare_lob(lob, trades, range):\n",
    "    lob_partial = lob.iloc[range].copy()\n",
    "    lob_partial.sort_values('local_timestamp', inplace=True)\n",
    "\n",
    "    lob_end = lob_partial.local_timestamp.iloc[-1]\n",
    "    lob_start = lob_partial.local_timestamp.iloc[0]\n",
    "\n",
    "    trade_partial = trades[(trades.local_timestamp >= lob_start) & (trades.local_timestamp <= lob_end)].copy()\n",
    "    trade_partial.sort_values('local_timestamp', inplace=True)\n",
    "\n",
    "    return lob_partial, trade_partial\n",
    "\n",
    "\n",
    "lob_train, trade_train = prepare_lob(lob, trades, train_range)\n",
    "lob_test, trade_test = prepare_lob(lob, trades, test_range)"
   ]
  },
  {
   "cell_type": "markdown",
   "metadata": {},
   "source": [
    "#### Feature Playground"
   ]
  },
  {
   "cell_type": "markdown",
   "metadata": {},
   "source": [
    "First of all, we need to add columns: `mid_price`, `high`, `low`, `open`, `close`"
   ]
  },
  {
   "cell_type": "code",
   "execution_count": 46,
   "metadata": {},
   "outputs": [],
   "source": [
    "# convert to timestamp\n",
    "lob['local_timestamp'] = pd.to_datetime(lob['local_timestamp'], unit='ns')\n",
    "trades['local_timestamp'] = pd.to_datetime(trades['local_timestamp'], unit='ns')\n",
    "\n",
    "# sort lob and trades by timestamp\n",
    "lob = lob.sort_values('local_timestamp')\n",
    "trades = trades.sort_values('local_timestamp')"
   ]
  },
  {
   "cell_type": "code",
   "execution_count": 47,
   "metadata": {},
   "outputs": [
    {
     "data": {
      "text/plain": [
       "0    NaN\n",
       "1    1.0\n",
       "2    2.0\n",
       "3    3.0\n",
       "4    4.0\n",
       "dtype: float64"
      ]
     },
     "execution_count": 47,
     "metadata": {},
     "output_type": "execute_result"
    }
   ],
   "source": [
    "# pandas shift demonstration\n",
    "\n",
    "series = pd.Series([1, 2, 3, 4, 5])\n",
    "series.shift(1)"
   ]
  },
  {
   "cell_type": "code",
   "execution_count": 48,
   "metadata": {},
   "outputs": [
    {
     "data": {
      "text/html": [
       "<div>\n",
       "<style scoped>\n",
       "    .dataframe tbody tr th:only-of-type {\n",
       "        vertical-align: middle;\n",
       "    }\n",
       "\n",
       "    .dataframe tbody tr th {\n",
       "        vertical-align: top;\n",
       "    }\n",
       "\n",
       "    .dataframe thead th {\n",
       "        text-align: right;\n",
       "    }\n",
       "</style>\n",
       "<table border=\"1\" class=\"dataframe\">\n",
       "  <thead>\n",
       "    <tr style=\"text-align: right;\">\n",
       "      <th></th>\n",
       "      <th>Unnamed: 0</th>\n",
       "      <th>local_timestamp</th>\n",
       "      <th>side</th>\n",
       "      <th>price</th>\n",
       "      <th>amount</th>\n",
       "    </tr>\n",
       "  </thead>\n",
       "  <tbody>\n",
       "    <tr>\n",
       "      <th>0</th>\n",
       "      <td>0</td>\n",
       "      <td>1970-01-20 22:27:50.400014926</td>\n",
       "      <td>sell</td>\n",
       "      <td>0.011043</td>\n",
       "      <td>734</td>\n",
       "    </tr>\n",
       "    <tr>\n",
       "      <th>1</th>\n",
       "      <td>1</td>\n",
       "      <td>1970-01-20 22:27:50.402982045</td>\n",
       "      <td>sell</td>\n",
       "      <td>0.011043</td>\n",
       "      <td>1633</td>\n",
       "    </tr>\n",
       "    <tr>\n",
       "      <th>2</th>\n",
       "      <td>2</td>\n",
       "      <td>1970-01-20 22:27:50.402982047</td>\n",
       "      <td>sell</td>\n",
       "      <td>0.011043</td>\n",
       "      <td>25445</td>\n",
       "    </tr>\n",
       "  </tbody>\n",
       "</table>\n",
       "</div>"
      ],
      "text/plain": [
       "   Unnamed: 0               local_timestamp  side     price  amount\n",
       "0           0 1970-01-20 22:27:50.400014926  sell  0.011043     734\n",
       "1           1 1970-01-20 22:27:50.402982045  sell  0.011043    1633\n",
       "2           2 1970-01-20 22:27:50.402982047  sell  0.011043   25445"
      ]
     },
     "execution_count": 48,
     "metadata": {},
     "output_type": "execute_result"
    }
   ],
   "source": [
    "trades.head(3)"
   ]
  },
  {
   "cell_type": "code",
   "execution_count": 49,
   "metadata": {},
   "outputs": [],
   "source": [
    "# mid / high / low -- easy\n",
    "def add_mid_high_low(lob):\n",
    "    lob['mid'] = (lob['bids[0].price'] + lob['asks[0].price']) / 2\n",
    "    lob['high'] = lob['asks[0].price']\n",
    "    lob['low'] = lob['bids[0].price']\n",
    "    return lob\n",
    "\n",
    "lob_train = add_mid_high_low(lob_train)\n",
    "lob_test = add_mid_high_low(lob_test)"
   ]
  },
  {
   "cell_type": "markdown",
   "metadata": {},
   "source": [
    "#### Features & Target\n",
    "\n",
    "`df_to_series(df).rolling(window=window_size).apply(series_to_features)`"
   ]
  },
  {
   "cell_type": "markdown",
   "metadata": {},
   "source": [
    "Unfortunately, I didn't finish all the features I wanted to write. I didn't estimate the time required properly."
   ]
  },
  {
   "cell_type": "code",
   "execution_count": 94,
   "metadata": {},
   "outputs": [],
   "source": [
    "def get_target(lob, n_offset, n_window, std_denom):\n",
    "    mid = lob['mid']\n",
    "    std, target_diff = get_std_and_target_diff(mid, n_offset, n_window)\n",
    "    target_array = get_target_array(std, target_diff, std_denom)\n",
    "    return target_array\n",
    "\n",
    "n_offset = 200\n",
    "n_window = 1000\n",
    "std_denom = 2\n",
    "\n",
    "lob_target_train = get_target(lob_train, n_offset, n_window, std_denom)\n",
    "lob_target_test = get_target(lob_test, n_offset, n_window, std_denom)"
   ]
  },
  {
   "cell_type": "code",
   "execution_count": 95,
   "metadata": {},
   "outputs": [
    {
     "data": {
      "text/plain": [
       "((43801,), (3801,))"
      ]
     },
     "execution_count": 95,
     "metadata": {},
     "output_type": "execute_result"
    }
   ],
   "source": [
    "lob_target_train.shape, lob_target_test.shape"
   ]
  },
  {
   "cell_type": "code",
   "execution_count": 99,
   "metadata": {},
   "outputs": [],
   "source": [
    "# truncate lob_train and lob_test to ignore the last n_offset rows\n",
    "\n",
    "lob_train_trun = lob_train.iloc[:-n_offset]\n",
    "lob_test_trun = lob_test.iloc[:-n_offset]"
   ]
  },
  {
   "cell_type": "code",
   "execution_count": 107,
   "metadata": {},
   "outputs": [
    {
     "name": "stderr",
     "output_type": "stream",
     "text": [
      "  0%|          | 0/11 [00:00<?, ?it/s]"
     ]
    },
    {
     "name": "stdout",
     "output_type": "stream",
     "text": [
      "Extracting features from AutocorrelationFeature\n"
     ]
    },
    {
     "name": "stderr",
     "output_type": "stream",
     "text": [
      "  9%|▉         | 1/11 [04:00<40:04, 240.42s/it]"
     ]
    },
    {
     "name": "stdout",
     "output_type": "stream",
     "text": [
      "Extracting features from DonchianChannelsFeature\n"
     ]
    },
    {
     "name": "stderr",
     "output_type": "stream",
     "text": [
      " 18%|█▊        | 2/11 [11:19<53:35, 357.24s/it]"
     ]
    },
    {
     "name": "stdout",
     "output_type": "stream",
     "text": [
      "Extracting features from HighestHighFeature\n"
     ]
    },
    {
     "name": "stderr",
     "output_type": "stream",
     "text": [
      " 27%|██▋       | 3/11 [13:08<32:29, 243.69s/it]"
     ]
    },
    {
     "name": "stdout",
     "output_type": "stream",
     "text": [
      "Extracting features from COGFeature\n"
     ]
    },
    {
     "name": "stderr",
     "output_type": "stream",
     "text": [
      " 36%|███▋      | 4/11 [1:00:16<2:27:28, 1264.05s/it]"
     ]
    },
    {
     "name": "stdout",
     "output_type": "stream",
     "text": [
      "Extracting features from HeikinAshiFeature\n"
     ]
    },
    {
     "name": "stderr",
     "output_type": "stream",
     "text": [
      " 45%|████▌     | 5/11 [1:13:17<1:48:59, 1089.89s/it]"
     ]
    },
    {
     "name": "stdout",
     "output_type": "stream",
     "text": [
      "Extracting features from PriceVolumeDerivationFeature\n"
     ]
    },
    {
     "name": "stderr",
     "output_type": "stream",
     "text": [
      " 55%|█████▍    | 6/11 [1:17:21<1:06:52, 802.43s/it] "
     ]
    },
    {
     "name": "stdout",
     "output_type": "stream",
     "text": [
      "Extracting features from BestLOBLevelFeature\n"
     ]
    },
    {
     "name": "stderr",
     "output_type": "stream",
     "text": [
      " 64%|██████▎   | 7/11 [1:20:58<40:43, 610.97s/it]  "
     ]
    },
    {
     "name": "stdout",
     "output_type": "stream",
     "text": [
      "Extracting features from CointegrationBooleanVectorFeature\n"
     ]
    },
    {
     "name": "stderr",
     "output_type": "stream",
     "text": [
      " 73%|███████▎  | 8/11 [2:12:51<1:10:22, 1407.44s/it]"
     ]
    },
    {
     "name": "stdout",
     "output_type": "stream",
     "text": [
      "Extracting features from PriceVolumeMeans\n"
     ]
    },
    {
     "name": "stderr",
     "output_type": "stream",
     "text": [
      " 82%|████████▏ | 9/11 [2:16:50<34:44, 1042.17s/it]  "
     ]
    },
    {
     "name": "stdout",
     "output_type": "stream",
     "text": [
      "Extracting features from SpreadMidPriceFeature\n"
     ]
    },
    {
     "name": "stderr",
     "output_type": "stream",
     "text": [
      " 91%|█████████ | 10/11 [2:24:24<14:20, 860.47s/it]"
     ]
    },
    {
     "name": "stdout",
     "output_type": "stream",
     "text": [
      "Extracting features from LogRegEstimatorFeature\n"
     ]
    },
    {
     "name": "stderr",
     "output_type": "stream",
     "text": [
      "100%|██████████| 11/11 [2:31:39<00:00, 827.26s/it]\n"
     ]
    }
   ],
   "source": [
    "from tqdm import tqdm\n",
    "from extractors import AutocorrelationFeature, \\\n",
    "                    DonchianChannelsFeature, \\\n",
    "                    HighestHighFeature, \\\n",
    "                    COGFeature, \\\n",
    "                    HeikinAshiFeature, \\\n",
    "                    PriceVolumeDerivationFeature, \\\n",
    "                    BestLOBLevelFeature, \\\n",
    "                    CointegrationBooleanVectorFeature, \\\n",
    "                    PriceVolumeMeans, \\\n",
    "                    SpreadMidPriceFeature, \\\n",
    "                    LogRegEstimatorFeature\n",
    "\n",
    "feature_extractors = [\n",
    "    AutocorrelationFeature(),\n",
    "    DonchianChannelsFeature(),\n",
    "    HighestHighFeature(),\n",
    "    COGFeature(),\n",
    "    HeikinAshiFeature(),\n",
    "    PriceVolumeDerivationFeature(),\n",
    "    BestLOBLevelFeature(),\n",
    "    CointegrationBooleanVectorFeature(),\n",
    "    PriceVolumeMeans(),\n",
    "    SpreadMidPriceFeature(),\n",
    "    LogRegEstimatorFeature()\n",
    "]\n",
    "\n",
    "X_train = pd.DataFrame()\n",
    "X_test = pd.DataFrame()\n",
    "for extractor in tqdm(feature_extractors):\n",
    "    print(f'Extracting features from {extractor.__class__.__name__}')\n",
    "    \n",
    "    X_train = pd.concat([X_train, extractor.extract(lob_train_trun, trade_train)], axis=1)\n",
    "    X_test = pd.concat([X_test, extractor.extract(lob_test_trun, trade_test)], axis=1)"
   ]
  },
  {
   "cell_type": "code",
   "execution_count": 108,
   "metadata": {},
   "outputs": [
    {
     "data": {
      "text/plain": [
       "((43801, 50), (3801, 50))"
      ]
     },
     "execution_count": 108,
     "metadata": {},
     "output_type": "execute_result"
    }
   ],
   "source": [
    "X_train.shape, X_test.shape"
   ]
  },
  {
   "cell_type": "code",
   "execution_count": 109,
   "metadata": {},
   "outputs": [
    {
     "data": {
      "text/plain": [
       "((43801,), (3801,))"
      ]
     },
     "execution_count": 109,
     "metadata": {},
     "output_type": "execute_result"
    }
   ],
   "source": [
    "y_train, y_test = lob_target_train, lob_target_test\n",
    "y_train.shape, y_test.shape"
   ]
  },
  {
   "cell_type": "markdown",
   "metadata": {},
   "source": [
    "#### Training"
   ]
  },
  {
   "cell_type": "code",
   "execution_count": 110,
   "metadata": {},
   "outputs": [],
   "source": [
    "# Random forest + LogReg\n",
    "from sklearn.ensemble import RandomForestClassifier\n",
    "from sklearn.linear_model import LogisticRegression"
   ]
  },
  {
   "cell_type": "code",
   "execution_count": 111,
   "metadata": {},
   "outputs": [
    {
     "data": {
      "text/html": [
       "<style>#sk-container-id-2 {\n",
       "  /* Definition of color scheme common for light and dark mode */\n",
       "  --sklearn-color-text: black;\n",
       "  --sklearn-color-line: gray;\n",
       "  /* Definition of color scheme for unfitted estimators */\n",
       "  --sklearn-color-unfitted-level-0: #fff5e6;\n",
       "  --sklearn-color-unfitted-level-1: #f6e4d2;\n",
       "  --sklearn-color-unfitted-level-2: #ffe0b3;\n",
       "  --sklearn-color-unfitted-level-3: chocolate;\n",
       "  /* Definition of color scheme for fitted estimators */\n",
       "  --sklearn-color-fitted-level-0: #f0f8ff;\n",
       "  --sklearn-color-fitted-level-1: #d4ebff;\n",
       "  --sklearn-color-fitted-level-2: #b3dbfd;\n",
       "  --sklearn-color-fitted-level-3: cornflowerblue;\n",
       "\n",
       "  /* Specific color for light theme */\n",
       "  --sklearn-color-text-on-default-background: var(--sg-text-color, var(--theme-code-foreground, var(--jp-content-font-color1, black)));\n",
       "  --sklearn-color-background: var(--sg-background-color, var(--theme-background, var(--jp-layout-color0, white)));\n",
       "  --sklearn-color-border-box: var(--sg-text-color, var(--theme-code-foreground, var(--jp-content-font-color1, black)));\n",
       "  --sklearn-color-icon: #696969;\n",
       "\n",
       "  @media (prefers-color-scheme: dark) {\n",
       "    /* Redefinition of color scheme for dark theme */\n",
       "    --sklearn-color-text-on-default-background: var(--sg-text-color, var(--theme-code-foreground, var(--jp-content-font-color1, white)));\n",
       "    --sklearn-color-background: var(--sg-background-color, var(--theme-background, var(--jp-layout-color0, #111)));\n",
       "    --sklearn-color-border-box: var(--sg-text-color, var(--theme-code-foreground, var(--jp-content-font-color1, white)));\n",
       "    --sklearn-color-icon: #878787;\n",
       "  }\n",
       "}\n",
       "\n",
       "#sk-container-id-2 {\n",
       "  color: var(--sklearn-color-text);\n",
       "}\n",
       "\n",
       "#sk-container-id-2 pre {\n",
       "  padding: 0;\n",
       "}\n",
       "\n",
       "#sk-container-id-2 input.sk-hidden--visually {\n",
       "  border: 0;\n",
       "  clip: rect(1px 1px 1px 1px);\n",
       "  clip: rect(1px, 1px, 1px, 1px);\n",
       "  height: 1px;\n",
       "  margin: -1px;\n",
       "  overflow: hidden;\n",
       "  padding: 0;\n",
       "  position: absolute;\n",
       "  width: 1px;\n",
       "}\n",
       "\n",
       "#sk-container-id-2 div.sk-dashed-wrapped {\n",
       "  border: 1px dashed var(--sklearn-color-line);\n",
       "  margin: 0 0.4em 0.5em 0.4em;\n",
       "  box-sizing: border-box;\n",
       "  padding-bottom: 0.4em;\n",
       "  background-color: var(--sklearn-color-background);\n",
       "}\n",
       "\n",
       "#sk-container-id-2 div.sk-container {\n",
       "  /* jupyter's `normalize.less` sets `[hidden] { display: none; }`\n",
       "     but bootstrap.min.css set `[hidden] { display: none !important; }`\n",
       "     so we also need the `!important` here to be able to override the\n",
       "     default hidden behavior on the sphinx rendered scikit-learn.org.\n",
       "     See: https://github.com/scikit-learn/scikit-learn/issues/21755 */\n",
       "  display: inline-block !important;\n",
       "  position: relative;\n",
       "}\n",
       "\n",
       "#sk-container-id-2 div.sk-text-repr-fallback {\n",
       "  display: none;\n",
       "}\n",
       "\n",
       "div.sk-parallel-item,\n",
       "div.sk-serial,\n",
       "div.sk-item {\n",
       "  /* draw centered vertical line to link estimators */\n",
       "  background-image: linear-gradient(var(--sklearn-color-text-on-default-background), var(--sklearn-color-text-on-default-background));\n",
       "  background-size: 2px 100%;\n",
       "  background-repeat: no-repeat;\n",
       "  background-position: center center;\n",
       "}\n",
       "\n",
       "/* Parallel-specific style estimator block */\n",
       "\n",
       "#sk-container-id-2 div.sk-parallel-item::after {\n",
       "  content: \"\";\n",
       "  width: 100%;\n",
       "  border-bottom: 2px solid var(--sklearn-color-text-on-default-background);\n",
       "  flex-grow: 1;\n",
       "}\n",
       "\n",
       "#sk-container-id-2 div.sk-parallel {\n",
       "  display: flex;\n",
       "  align-items: stretch;\n",
       "  justify-content: center;\n",
       "  background-color: var(--sklearn-color-background);\n",
       "  position: relative;\n",
       "}\n",
       "\n",
       "#sk-container-id-2 div.sk-parallel-item {\n",
       "  display: flex;\n",
       "  flex-direction: column;\n",
       "}\n",
       "\n",
       "#sk-container-id-2 div.sk-parallel-item:first-child::after {\n",
       "  align-self: flex-end;\n",
       "  width: 50%;\n",
       "}\n",
       "\n",
       "#sk-container-id-2 div.sk-parallel-item:last-child::after {\n",
       "  align-self: flex-start;\n",
       "  width: 50%;\n",
       "}\n",
       "\n",
       "#sk-container-id-2 div.sk-parallel-item:only-child::after {\n",
       "  width: 0;\n",
       "}\n",
       "\n",
       "/* Serial-specific style estimator block */\n",
       "\n",
       "#sk-container-id-2 div.sk-serial {\n",
       "  display: flex;\n",
       "  flex-direction: column;\n",
       "  align-items: center;\n",
       "  background-color: var(--sklearn-color-background);\n",
       "  padding-right: 1em;\n",
       "  padding-left: 1em;\n",
       "}\n",
       "\n",
       "\n",
       "/* Toggleable style: style used for estimator/Pipeline/ColumnTransformer box that is\n",
       "clickable and can be expanded/collapsed.\n",
       "- Pipeline and ColumnTransformer use this feature and define the default style\n",
       "- Estimators will overwrite some part of the style using the `sk-estimator` class\n",
       "*/\n",
       "\n",
       "/* Pipeline and ColumnTransformer style (default) */\n",
       "\n",
       "#sk-container-id-2 div.sk-toggleable {\n",
       "  /* Default theme specific background. It is overwritten whether we have a\n",
       "  specific estimator or a Pipeline/ColumnTransformer */\n",
       "  background-color: var(--sklearn-color-background);\n",
       "}\n",
       "\n",
       "/* Toggleable label */\n",
       "#sk-container-id-2 label.sk-toggleable__label {\n",
       "  cursor: pointer;\n",
       "  display: block;\n",
       "  width: 100%;\n",
       "  margin-bottom: 0;\n",
       "  padding: 0.5em;\n",
       "  box-sizing: border-box;\n",
       "  text-align: center;\n",
       "}\n",
       "\n",
       "#sk-container-id-2 label.sk-toggleable__label-arrow:before {\n",
       "  /* Arrow on the left of the label */\n",
       "  content: \"▸\";\n",
       "  float: left;\n",
       "  margin-right: 0.25em;\n",
       "  color: var(--sklearn-color-icon);\n",
       "}\n",
       "\n",
       "#sk-container-id-2 label.sk-toggleable__label-arrow:hover:before {\n",
       "  color: var(--sklearn-color-text);\n",
       "}\n",
       "\n",
       "/* Toggleable content - dropdown */\n",
       "\n",
       "#sk-container-id-2 div.sk-toggleable__content {\n",
       "  max-height: 0;\n",
       "  max-width: 0;\n",
       "  overflow: hidden;\n",
       "  text-align: left;\n",
       "  /* unfitted */\n",
       "  background-color: var(--sklearn-color-unfitted-level-0);\n",
       "}\n",
       "\n",
       "#sk-container-id-2 div.sk-toggleable__content.fitted {\n",
       "  /* fitted */\n",
       "  background-color: var(--sklearn-color-fitted-level-0);\n",
       "}\n",
       "\n",
       "#sk-container-id-2 div.sk-toggleable__content pre {\n",
       "  margin: 0.2em;\n",
       "  border-radius: 0.25em;\n",
       "  color: var(--sklearn-color-text);\n",
       "  /* unfitted */\n",
       "  background-color: var(--sklearn-color-unfitted-level-0);\n",
       "}\n",
       "\n",
       "#sk-container-id-2 div.sk-toggleable__content.fitted pre {\n",
       "  /* unfitted */\n",
       "  background-color: var(--sklearn-color-fitted-level-0);\n",
       "}\n",
       "\n",
       "#sk-container-id-2 input.sk-toggleable__control:checked~div.sk-toggleable__content {\n",
       "  /* Expand drop-down */\n",
       "  max-height: 200px;\n",
       "  max-width: 100%;\n",
       "  overflow: auto;\n",
       "}\n",
       "\n",
       "#sk-container-id-2 input.sk-toggleable__control:checked~label.sk-toggleable__label-arrow:before {\n",
       "  content: \"▾\";\n",
       "}\n",
       "\n",
       "/* Pipeline/ColumnTransformer-specific style */\n",
       "\n",
       "#sk-container-id-2 div.sk-label input.sk-toggleable__control:checked~label.sk-toggleable__label {\n",
       "  color: var(--sklearn-color-text);\n",
       "  background-color: var(--sklearn-color-unfitted-level-2);\n",
       "}\n",
       "\n",
       "#sk-container-id-2 div.sk-label.fitted input.sk-toggleable__control:checked~label.sk-toggleable__label {\n",
       "  background-color: var(--sklearn-color-fitted-level-2);\n",
       "}\n",
       "\n",
       "/* Estimator-specific style */\n",
       "\n",
       "/* Colorize estimator box */\n",
       "#sk-container-id-2 div.sk-estimator input.sk-toggleable__control:checked~label.sk-toggleable__label {\n",
       "  /* unfitted */\n",
       "  background-color: var(--sklearn-color-unfitted-level-2);\n",
       "}\n",
       "\n",
       "#sk-container-id-2 div.sk-estimator.fitted input.sk-toggleable__control:checked~label.sk-toggleable__label {\n",
       "  /* fitted */\n",
       "  background-color: var(--sklearn-color-fitted-level-2);\n",
       "}\n",
       "\n",
       "#sk-container-id-2 div.sk-label label.sk-toggleable__label,\n",
       "#sk-container-id-2 div.sk-label label {\n",
       "  /* The background is the default theme color */\n",
       "  color: var(--sklearn-color-text-on-default-background);\n",
       "}\n",
       "\n",
       "/* On hover, darken the color of the background */\n",
       "#sk-container-id-2 div.sk-label:hover label.sk-toggleable__label {\n",
       "  color: var(--sklearn-color-text);\n",
       "  background-color: var(--sklearn-color-unfitted-level-2);\n",
       "}\n",
       "\n",
       "/* Label box, darken color on hover, fitted */\n",
       "#sk-container-id-2 div.sk-label.fitted:hover label.sk-toggleable__label.fitted {\n",
       "  color: var(--sklearn-color-text);\n",
       "  background-color: var(--sklearn-color-fitted-level-2);\n",
       "}\n",
       "\n",
       "/* Estimator label */\n",
       "\n",
       "#sk-container-id-2 div.sk-label label {\n",
       "  font-family: monospace;\n",
       "  font-weight: bold;\n",
       "  display: inline-block;\n",
       "  line-height: 1.2em;\n",
       "}\n",
       "\n",
       "#sk-container-id-2 div.sk-label-container {\n",
       "  text-align: center;\n",
       "}\n",
       "\n",
       "/* Estimator-specific */\n",
       "#sk-container-id-2 div.sk-estimator {\n",
       "  font-family: monospace;\n",
       "  border: 1px dotted var(--sklearn-color-border-box);\n",
       "  border-radius: 0.25em;\n",
       "  box-sizing: border-box;\n",
       "  margin-bottom: 0.5em;\n",
       "  /* unfitted */\n",
       "  background-color: var(--sklearn-color-unfitted-level-0);\n",
       "}\n",
       "\n",
       "#sk-container-id-2 div.sk-estimator.fitted {\n",
       "  /* fitted */\n",
       "  background-color: var(--sklearn-color-fitted-level-0);\n",
       "}\n",
       "\n",
       "/* on hover */\n",
       "#sk-container-id-2 div.sk-estimator:hover {\n",
       "  /* unfitted */\n",
       "  background-color: var(--sklearn-color-unfitted-level-2);\n",
       "}\n",
       "\n",
       "#sk-container-id-2 div.sk-estimator.fitted:hover {\n",
       "  /* fitted */\n",
       "  background-color: var(--sklearn-color-fitted-level-2);\n",
       "}\n",
       "\n",
       "/* Specification for estimator info (e.g. \"i\" and \"?\") */\n",
       "\n",
       "/* Common style for \"i\" and \"?\" */\n",
       "\n",
       ".sk-estimator-doc-link,\n",
       "a:link.sk-estimator-doc-link,\n",
       "a:visited.sk-estimator-doc-link {\n",
       "  float: right;\n",
       "  font-size: smaller;\n",
       "  line-height: 1em;\n",
       "  font-family: monospace;\n",
       "  background-color: var(--sklearn-color-background);\n",
       "  border-radius: 1em;\n",
       "  height: 1em;\n",
       "  width: 1em;\n",
       "  text-decoration: none !important;\n",
       "  margin-left: 1ex;\n",
       "  /* unfitted */\n",
       "  border: var(--sklearn-color-unfitted-level-1) 1pt solid;\n",
       "  color: var(--sklearn-color-unfitted-level-1);\n",
       "}\n",
       "\n",
       ".sk-estimator-doc-link.fitted,\n",
       "a:link.sk-estimator-doc-link.fitted,\n",
       "a:visited.sk-estimator-doc-link.fitted {\n",
       "  /* fitted */\n",
       "  border: var(--sklearn-color-fitted-level-1) 1pt solid;\n",
       "  color: var(--sklearn-color-fitted-level-1);\n",
       "}\n",
       "\n",
       "/* On hover */\n",
       "div.sk-estimator:hover .sk-estimator-doc-link:hover,\n",
       ".sk-estimator-doc-link:hover,\n",
       "div.sk-label-container:hover .sk-estimator-doc-link:hover,\n",
       ".sk-estimator-doc-link:hover {\n",
       "  /* unfitted */\n",
       "  background-color: var(--sklearn-color-unfitted-level-3);\n",
       "  color: var(--sklearn-color-background);\n",
       "  text-decoration: none;\n",
       "}\n",
       "\n",
       "div.sk-estimator.fitted:hover .sk-estimator-doc-link.fitted:hover,\n",
       ".sk-estimator-doc-link.fitted:hover,\n",
       "div.sk-label-container:hover .sk-estimator-doc-link.fitted:hover,\n",
       ".sk-estimator-doc-link.fitted:hover {\n",
       "  /* fitted */\n",
       "  background-color: var(--sklearn-color-fitted-level-3);\n",
       "  color: var(--sklearn-color-background);\n",
       "  text-decoration: none;\n",
       "}\n",
       "\n",
       "/* Span, style for the box shown on hovering the info icon */\n",
       ".sk-estimator-doc-link span {\n",
       "  display: none;\n",
       "  z-index: 9999;\n",
       "  position: relative;\n",
       "  font-weight: normal;\n",
       "  right: .2ex;\n",
       "  padding: .5ex;\n",
       "  margin: .5ex;\n",
       "  width: min-content;\n",
       "  min-width: 20ex;\n",
       "  max-width: 50ex;\n",
       "  color: var(--sklearn-color-text);\n",
       "  box-shadow: 2pt 2pt 4pt #999;\n",
       "  /* unfitted */\n",
       "  background: var(--sklearn-color-unfitted-level-0);\n",
       "  border: .5pt solid var(--sklearn-color-unfitted-level-3);\n",
       "}\n",
       "\n",
       ".sk-estimator-doc-link.fitted span {\n",
       "  /* fitted */\n",
       "  background: var(--sklearn-color-fitted-level-0);\n",
       "  border: var(--sklearn-color-fitted-level-3);\n",
       "}\n",
       "\n",
       ".sk-estimator-doc-link:hover span {\n",
       "  display: block;\n",
       "}\n",
       "\n",
       "/* \"?\"-specific style due to the `<a>` HTML tag */\n",
       "\n",
       "#sk-container-id-2 a.estimator_doc_link {\n",
       "  float: right;\n",
       "  font-size: 1rem;\n",
       "  line-height: 1em;\n",
       "  font-family: monospace;\n",
       "  background-color: var(--sklearn-color-background);\n",
       "  border-radius: 1rem;\n",
       "  height: 1rem;\n",
       "  width: 1rem;\n",
       "  text-decoration: none;\n",
       "  /* unfitted */\n",
       "  color: var(--sklearn-color-unfitted-level-1);\n",
       "  border: var(--sklearn-color-unfitted-level-1) 1pt solid;\n",
       "}\n",
       "\n",
       "#sk-container-id-2 a.estimator_doc_link.fitted {\n",
       "  /* fitted */\n",
       "  border: var(--sklearn-color-fitted-level-1) 1pt solid;\n",
       "  color: var(--sklearn-color-fitted-level-1);\n",
       "}\n",
       "\n",
       "/* On hover */\n",
       "#sk-container-id-2 a.estimator_doc_link:hover {\n",
       "  /* unfitted */\n",
       "  background-color: var(--sklearn-color-unfitted-level-3);\n",
       "  color: var(--sklearn-color-background);\n",
       "  text-decoration: none;\n",
       "}\n",
       "\n",
       "#sk-container-id-2 a.estimator_doc_link.fitted:hover {\n",
       "  /* fitted */\n",
       "  background-color: var(--sklearn-color-fitted-level-3);\n",
       "}\n",
       "</style><div id=\"sk-container-id-2\" class=\"sk-top-container\"><div class=\"sk-text-repr-fallback\"><pre>RandomForestClassifier(random_state=0)</pre><b>In a Jupyter environment, please rerun this cell to show the HTML representation or trust the notebook. <br />On GitHub, the HTML representation is unable to render, please try loading this page with nbviewer.org.</b></div><div class=\"sk-container\" hidden><div class=\"sk-item\"><div class=\"sk-estimator fitted sk-toggleable\"><input class=\"sk-toggleable__control sk-hidden--visually\" id=\"sk-estimator-id-2\" type=\"checkbox\" checked><label for=\"sk-estimator-id-2\" class=\"sk-toggleable__label fitted sk-toggleable__label-arrow fitted\">&nbsp;&nbsp;RandomForestClassifier<a class=\"sk-estimator-doc-link fitted\" rel=\"noreferrer\" target=\"_blank\" href=\"https://scikit-learn.org/1.5/modules/generated/sklearn.ensemble.RandomForestClassifier.html\">?<span>Documentation for RandomForestClassifier</span></a><span class=\"sk-estimator-doc-link fitted\">i<span>Fitted</span></span></label><div class=\"sk-toggleable__content fitted\"><pre>RandomForestClassifier(random_state=0)</pre></div> </div></div></div></div>"
      ],
      "text/plain": [
       "RandomForestClassifier(random_state=0)"
      ]
     },
     "execution_count": 111,
     "metadata": {},
     "output_type": "execute_result"
    }
   ],
   "source": [
    "rf = RandomForestClassifier(n_estimators=100, random_state=0)\n",
    "rf.fit(X_train, y_train)\n",
    "\n",
    "# print report"
   ]
  },
  {
   "cell_type": "code",
   "execution_count": 112,
   "metadata": {},
   "outputs": [
    {
     "name": "stdout",
     "output_type": "stream",
     "text": [
      "test report\n",
      "              precision    recall  f1-score   support\n",
      "\n",
      "          -1       0.37      0.63      0.46      1011\n",
      "           0       0.55      0.52      0.54      1553\n",
      "           1       0.25      0.12      0.16      1237\n",
      "\n",
      "    accuracy                           0.42      3801\n",
      "   macro avg       0.39      0.42      0.39      3801\n",
      "weighted avg       0.40      0.42      0.39      3801\n",
      "\n",
      "train report\n",
      "              precision    recall  f1-score   support\n",
      "\n",
      "          -1       1.00      1.00      1.00     12807\n",
      "           0       1.00      1.00      1.00     15944\n",
      "           1       1.00      1.00      1.00     15050\n",
      "\n",
      "    accuracy                           1.00     43801\n",
      "   macro avg       1.00      1.00      1.00     43801\n",
      "weighted avg       1.00      1.00      1.00     43801\n",
      "\n"
     ]
    }
   ],
   "source": [
    "from sklearn.metrics import classification_report\n",
    "\n",
    "print(\"test report\")\n",
    "y_pred_test = rf.predict(X_test)\n",
    "print(classification_report(y_test, y_pred_test))\n",
    "\n",
    "print(\"train report\")\n",
    "y_pred_train = rf.predict(X_train)\n",
    "print(classification_report(y_train, y_pred_train))"
   ]
  },
  {
   "cell_type": "code",
   "execution_count": 113,
   "metadata": {},
   "outputs": [
    {
     "data": {
      "text/plain": [
       "<Axes: >"
      ]
     },
     "execution_count": 113,
     "metadata": {},
     "output_type": "execute_result"
    },
    {
     "data": {
      "image/png": "[encoded data removed]",
      "text/plain": [
       "<Figure size 640x480 with 2 Axes>"
      ]
     },
     "metadata": {},
     "output_type": "display_data"
    }
   ],
   "source": [
    "import matplotlib.pyplot as plt\n",
    "import seaborn as sns\n",
    "from sklearn.metrics import confusion_matrix\n",
    "\n",
    "cm = confusion_matrix(y_test, y_pred_test)\n",
    "sns.heatmap(cm, annot=True, fmt='d')"
   ]
  },
  {
   "cell_type": "code",
   "execution_count": 114,
   "metadata": {},
   "outputs": [
    {
     "name": "stderr",
     "output_type": "stream",
     "text": [
      "c:\\Users\\rodio\\Desktop\\Programming\\ML\\market_forecasting\\.venv\\Lib\\site-packages\\sklearn\\linear_model\\_logistic.py:1256: FutureWarning: 'multi_class' was deprecated in version 1.5 and will be removed in 1.7. Use OneVsRestClassifier(LogisticRegression(..)) instead. Leave it to its default value to avoid this warning.\n",
      "  warnings.warn(\n"
     ]
    },
    {
     "name": "stdout",
     "output_type": "stream",
     "text": [
      "test report\n",
      "              precision    recall  f1-score   support\n",
      "\n",
      "          -1       0.39      0.20      0.26      1011\n",
      "           0       0.43      0.90      0.58      1553\n",
      "           1       0.40      0.02      0.03      1237\n",
      "\n",
      "    accuracy                           0.43      3801\n",
      "   macro avg       0.41      0.37      0.29      3801\n",
      "weighted avg       0.41      0.43      0.32      3801\n",
      "\n",
      "train report\n",
      "              precision    recall  f1-score   support\n",
      "\n",
      "          -1       0.32      0.08      0.12     12807\n",
      "           0       0.36      0.87      0.51     15944\n",
      "           1       0.26      0.05      0.08     15050\n",
      "\n",
      "    accuracy                           0.35     43801\n",
      "   macro avg       0.32      0.33      0.24     43801\n",
      "weighted avg       0.32      0.35      0.25     43801\n",
      "\n"
     ]
    }
   ],
   "source": [
    "# linear regression\n",
    "\n",
    "lr = LogisticRegression(multi_class='ovr', max_iter=1000)\n",
    "lr.fit(X_train, y_train)\n",
    "\n",
    "print(\"test report\")\n",
    "y_pred_test = lr.predict(X_test)\n",
    "print(classification_report(y_test, y_pred_test))\n",
    "\n",
    "print(\"train report\")\n",
    "y_pred_train = lr.predict(X_train)\n",
    "print(classification_report(y_train, y_pred_train))"
   ]
  }
 ],
 "metadata": {
  "kernelspec": {
   "display_name": ".venv",
   "language": "python",
   "name": "python3"
  },
  "language_info": {
   "codemirror_mode": {
    "name": "ipython",
    "version": 3
   },
   "file_extension": ".py",
   "mimetype": "text/x-python",
   "name": "python",
   "nbconvert_exporter": "python",
   "pygments_lexer": "ipython3",
   "version": "3.11.6"
  }
 },
 "nbformat": 4,
 "nbformat_minor": 2
}
